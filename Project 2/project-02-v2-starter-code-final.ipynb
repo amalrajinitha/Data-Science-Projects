{
 "cells": [
  {
   "cell_type": "markdown",
   "metadata": {},
   "source": [
    "<img src=\"http://imgur.com/1ZcRyrc.png\" style=\"float: left; margin: 15px; height: 80px\">\n",
    "\n",
    "# Project 2\n",
    "\n",
    "### Exploratory Data Analysis (EDA)\n",
    "\n",
    "---\n",
    "\n",
    "Your hometown mayor just created a new data analysis team to give policy advice, and the administration recruited _you_ via LinkedIn to join it. Unfortunately, due to budget constraints, for now the \"team\" is just you...\n",
    "\n",
    "The mayor wants to start a new initiative to move the needle on one of two separate issues: high school education outcomes, or drug abuse in the community.\n",
    "\n",
    "Also unfortunately, that is the entirety of what you've been told. And the mayor just went on a lobbyist-funded fact-finding trip in the Bahamas. In the meantime, you got your hands on two national datasets: one on SAT scores by state, and one on drug use by age. Start exploring these to look for useful patterns and possible hypotheses!\n",
    "\n",
    "---\n",
    "\n",
    "This project is focused on exploratory data analysis, aka \"EDA\". EDA is an essential part of the data science analysis pipeline. Failure to perform EDA before modeling is almost guaranteed to lead to bad models and faulty conclusions. What you do in this project are good practices for all projects going forward, especially those after this bootcamp!\n",
    "\n",
    "This lab includes a variety of plotting problems. Much of the plotting code will be left up to you to find either in the lecture notes, or if not there, online. There are massive amounts of code snippets either in documentation or sites like [Stack Overflow](https://stackoverflow.com/search?q=%5Bpython%5D+seaborn) that have almost certainly done what you are trying to do.\n",
    "\n",
    "**Get used to googling for code!** You will use it every single day as a data scientist, especially for visualization and plotting.\n",
    "\n",
    "#### Package imports"
   ]
  },
  {
   "cell_type": "code",
   "execution_count": 1,
   "metadata": {},
   "outputs": [],
   "source": [
    "import numpy as np\n",
    "import scipy.stats as stats\n",
    "import csv\n",
    "import pandas as pd\n",
    "import matplotlib as plt\n",
    "# this line tells jupyter notebook to put the plots in the notebook rather than saving them to file.\n",
    "%matplotlib inline\n",
    "\n",
    "# this line makes plots prettier on mac retina screens. If you don't have one it shouldn't do anything.\n",
    "%config InlineBackend.figure_format = 'retina'"
   ]
  },
  {
   "cell_type": "markdown",
   "metadata": {},
   "source": [
    "<img src=\"http://imgur.com/l5NasQj.png\" style=\"float: left; margin: 25px 15px 0px 0px; height: 25px\">\n",
    "\n",
    "## 1. Load the `sat_scores.csv` dataset and describe it\n",
    "\n",
    "---\n",
    "\n",
    "You should replace the placeholder path to the `sat_scores.csv` dataset below with your specific path to the file.\n",
    "\n",
    "### 1.1 Load the file with the `csv` module and put it in a Python dictionary\n",
    "\n",
    "The dictionary format for data will be the column names as key, and the data under each column as the values.\n",
    "\n",
    "Toy example:\n",
    "```python\n",
    "data = {\n",
    "    'column1':[0,1,2,3],\n",
    "    'column2':['a','b','c','d']\n",
    "    }\n",
    "```"
   ]
  },
  {
   "cell_type": "code",
   "execution_count": 2,
   "metadata": {},
   "outputs": [
    {
     "data": {
      "text/plain": [
       "'State,Rate,Verbal,Math\\nCT,82,509,510\\nNJ,81,499,513\\nMA,79,511,515\\nNY,77,495,505\\nNH,72,520,516\\nRI,71,501,499\\nPA,71,500,499\\nVT,69,511,506\\nME,69,506,500\\nVA,68,510,501\\nDE,67,501,499\\nMD,65,508,510\\nNC,65,493,499\\nGA,63,491,489\\nIN,60,499,501\\nSC,57,486,488\\nDC,56,482,474\\nOR,55,526,526\\nFL,54,498,499\\nWA,53,527,527\\nTX,53,493,499\\nHI,52,485,515\\nAK,51,514,510\\nCA,51,498,517\\nAZ,34,523,525\\nNV,33,509,515\\nCO,31,539,542\\nOH,26,534,439\\nMT,23,539,539\\nWV,18,527,512\\nID,17,543,542\\nTN,13,562,553\\nNM,13,551,542\\nIL,12,576,589\\nKY,12,550,550\\nWY,11,547,545\\nMI,11,561,572\\nMN,9,580,589\\nKS,9,577,580\\nAL,9,559,554\\nNE,8,562,568\\nOK,8,567,561\\nMO,8,577,577\\nLA,7,564,562\\nWI,6,584,596\\nAR,6,562,550\\nUT,5,575,570\\nIA,5,593,603\\nSD,4,577,582\\nND,4,592,599\\nMS,4,566,551\\nAll,45,506,514\\n'"
      ]
     },
     "execution_count": 2,
     "metadata": {},
     "output_type": "execute_result"
    }
   ],
   "source": [
    "#Loading sat_scores.csv\n",
    "\n",
    "sat_scores = 'sat_scores.csv'\n",
    "with open(sat_scores, 'r') as f:\n",
    "    sat_scores = f.read()\n",
    "\n",
    "clean1 = sat_scores.splitlines()\n",
    "\n",
    "\n",
    "\n",
    "sat_scores"
   ]
  },
  {
   "cell_type": "code",
   "execution_count": 3,
   "metadata": {},
   "outputs": [
    {
     "data": {
      "text/plain": [
       "list"
      ]
     },
     "execution_count": 3,
     "metadata": {},
     "output_type": "execute_result"
    }
   ],
   "source": [
    "type(clean1)"
   ]
  },
  {
   "cell_type": "code",
   "execution_count": 4,
   "metadata": {},
   "outputs": [
    {
     "name": "stdout",
     "output_type": "stream",
     "text": [
      "['State', 'Rate', 'Verbal', 'Math']\n"
     ]
    }
   ],
   "source": [
    "#Separating header and data\n",
    "header=clean1[0]\n",
    "data=clean1[1:]\n",
    "\n",
    "#spliting the strings on the comma character using built in .split() and storing in split_data\n",
    "header = header.split(',')\n",
    "print(header)\n",
    "split_data = []\n",
    "for d in data:\n",
    "    split_data.append(d.split(','))\n",
    "    "
   ]
  },
  {
   "cell_type": "code",
   "execution_count": 5,
   "metadata": {},
   "outputs": [],
   "source": [
    "#Transpose the data to facilitate the creation of dictionary\n",
    "data1 = np.array(split_data)\n",
    "data2=data1.transpose()"
   ]
  },
  {
   "cell_type": "code",
   "execution_count": 6,
   "metadata": {},
   "outputs": [
    {
     "data": {
      "text/plain": [
       "{'State': array(['CT', 'NJ', 'MA', 'NY', 'NH', 'RI', 'PA', 'VT', 'ME', 'VA', 'DE',\n",
       "        'MD', 'NC', 'GA', 'IN', 'SC', 'DC', 'OR', 'FL', 'WA', 'TX', 'HI',\n",
       "        'AK', 'CA', 'AZ', 'NV', 'CO', 'OH', 'MT', 'WV', 'ID', 'TN', 'NM',\n",
       "        'IL', 'KY', 'WY', 'MI', 'MN', 'KS', 'AL', 'NE', 'OK', 'MO', 'LA',\n",
       "        'WI', 'AR', 'UT', 'IA', 'SD', 'ND', 'MS', 'All'], dtype='<U3'),\n",
       " 'Rate': array(['82', '81', '79', '77', '72', '71', '71', '69', '69', '68', '67',\n",
       "        '65', '65', '63', '60', '57', '56', '55', '54', '53', '53', '52',\n",
       "        '51', '51', '34', '33', '31', '26', '23', '18', '17', '13', '13',\n",
       "        '12', '12', '11', '11', '9', '9', '9', '8', '8', '8', '7', '6',\n",
       "        '6', '5', '5', '4', '4', '4', '45'], dtype='<U3'),\n",
       " 'Verbal': array(['509', '499', '511', '495', '520', '501', '500', '511', '506',\n",
       "        '510', '501', '508', '493', '491', '499', '486', '482', '526',\n",
       "        '498', '527', '493', '485', '514', '498', '523', '509', '539',\n",
       "        '534', '539', '527', '543', '562', '551', '576', '550', '547',\n",
       "        '561', '580', '577', '559', '562', '567', '577', '564', '584',\n",
       "        '562', '575', '593', '577', '592', '566', '506'], dtype='<U3'),\n",
       " 'Math': array(['510', '513', '515', '505', '516', '499', '499', '506', '500',\n",
       "        '501', '499', '510', '499', '489', '501', '488', '474', '526',\n",
       "        '499', '527', '499', '515', '510', '517', '525', '515', '542',\n",
       "        '439', '539', '512', '542', '553', '542', '589', '550', '545',\n",
       "        '572', '589', '580', '554', '568', '561', '577', '562', '596',\n",
       "        '550', '570', '603', '582', '599', '551', '514'], dtype='<U3')}"
      ]
     },
     "execution_count": 6,
     "metadata": {},
     "output_type": "execute_result"
    }
   ],
   "source": [
    "sat_dict={c:data2[i] for i,c in enumerate(header)}\n",
    "sat_dict"
   ]
  },
  {
   "cell_type": "markdown",
   "metadata": {},
   "source": [
    "### 1.2 Make a pandas DataFrame object with the SAT dictionary, and another with the pandas `.read_csv()` function\n",
    "\n",
    "Compare the DataFrames using the `.dtypes` attribute in the DataFrame objects. What is the difference between loading from file and inputting this dictionary (if any)?"
   ]
  },
  {
   "cell_type": "code",
   "execution_count": 7,
   "metadata": {},
   "outputs": [
    {
     "data": {
      "text/html": [
       "<div>\n",
       "<style scoped>\n",
       "    .dataframe tbody tr th:only-of-type {\n",
       "        vertical-align: middle;\n",
       "    }\n",
       "\n",
       "    .dataframe tbody tr th {\n",
       "        vertical-align: top;\n",
       "    }\n",
       "\n",
       "    .dataframe thead th {\n",
       "        text-align: right;\n",
       "    }\n",
       "</style>\n",
       "<table border=\"1\" class=\"dataframe\">\n",
       "  <thead>\n",
       "    <tr style=\"text-align: right;\">\n",
       "      <th></th>\n",
       "      <th>State</th>\n",
       "      <th>Rate</th>\n",
       "      <th>Verbal</th>\n",
       "      <th>Math</th>\n",
       "    </tr>\n",
       "  </thead>\n",
       "  <tbody>\n",
       "    <tr>\n",
       "      <th>0</th>\n",
       "      <td>CT</td>\n",
       "      <td>82</td>\n",
       "      <td>509</td>\n",
       "      <td>510</td>\n",
       "    </tr>\n",
       "    <tr>\n",
       "      <th>1</th>\n",
       "      <td>NJ</td>\n",
       "      <td>81</td>\n",
       "      <td>499</td>\n",
       "      <td>513</td>\n",
       "    </tr>\n",
       "    <tr>\n",
       "      <th>2</th>\n",
       "      <td>MA</td>\n",
       "      <td>79</td>\n",
       "      <td>511</td>\n",
       "      <td>515</td>\n",
       "    </tr>\n",
       "    <tr>\n",
       "      <th>3</th>\n",
       "      <td>NY</td>\n",
       "      <td>77</td>\n",
       "      <td>495</td>\n",
       "      <td>505</td>\n",
       "    </tr>\n",
       "    <tr>\n",
       "      <th>4</th>\n",
       "      <td>NH</td>\n",
       "      <td>72</td>\n",
       "      <td>520</td>\n",
       "      <td>516</td>\n",
       "    </tr>\n",
       "  </tbody>\n",
       "</table>\n",
       "</div>"
      ],
      "text/plain": [
       "  State  Rate  Verbal  Math\n",
       "0    CT    82     509   510\n",
       "1    NJ    81     499   513\n",
       "2    MA    79     511   515\n",
       "3    NY    77     495   505\n",
       "4    NH    72     520   516"
      ]
     },
     "execution_count": 7,
     "metadata": {},
     "output_type": "execute_result"
    }
   ],
   "source": [
    "# Creating sat_score dataframe using pandas\n",
    "\n",
    "sat_score=pd.read_csv('sat_scores.csv')\n",
    "\n",
    "sat_score.head()"
   ]
  },
  {
   "cell_type": "code",
   "execution_count": 8,
   "metadata": {},
   "outputs": [
    {
     "data": {
      "text/plain": [
       "State     object\n",
       "Rate       int64\n",
       "Verbal     int64\n",
       "Math       int64\n",
       "dtype: object"
      ]
     },
     "execution_count": 8,
     "metadata": {},
     "output_type": "execute_result"
    }
   ],
   "source": [
    "sat_score.dtypes # dtype is used to understand the datatypes of the variables"
   ]
  },
  {
   "cell_type": "code",
   "execution_count": 9,
   "metadata": {},
   "outputs": [
    {
     "data": {
      "text/plain": [
       "(52, 4)"
      ]
     },
     "execution_count": 9,
     "metadata": {},
     "output_type": "execute_result"
    }
   ],
   "source": [
    "sat_score.shape"
   ]
  },
  {
   "cell_type": "code",
   "execution_count": 10,
   "metadata": {},
   "outputs": [],
   "source": [
    "#When using dictionary we can access the values using its keys and the dtypes buildin function is not available in dictionary. \n",
    "# Pandas Dataframe has lot of buildin functions like .info(), .dtypes(), isnull(), which could facilitate our EDA. "
   ]
  },
  {
   "cell_type": "markdown",
   "metadata": {},
   "source": [
    "If you did not convert the string column values to float in your dictionary, the columns in the DataFrame are of type `object` (which are string values, essentially). "
   ]
  },
  {
   "cell_type": "markdown",
   "metadata": {},
   "source": [
    "### 1.3 Look at the first ten rows of the DataFrame: what does our data describe?\n",
    "\n",
    "From now on, use the DataFrame loaded from the file using the `.read_csv()` function.\n",
    "\n",
    "Use the `.head(num)` built-in DataFrame function, where `num` is the number of rows to print out.\n",
    "\n",
    "You are not given a \"codebook\" with this data, so you will have to make some (very minor) inference."
   ]
  },
  {
   "cell_type": "code",
   "execution_count": 11,
   "metadata": {},
   "outputs": [
    {
     "data": {
      "text/html": [
       "<div>\n",
       "<style scoped>\n",
       "    .dataframe tbody tr th:only-of-type {\n",
       "        vertical-align: middle;\n",
       "    }\n",
       "\n",
       "    .dataframe tbody tr th {\n",
       "        vertical-align: top;\n",
       "    }\n",
       "\n",
       "    .dataframe thead th {\n",
       "        text-align: right;\n",
       "    }\n",
       "</style>\n",
       "<table border=\"1\" class=\"dataframe\">\n",
       "  <thead>\n",
       "    <tr style=\"text-align: right;\">\n",
       "      <th></th>\n",
       "      <th>State</th>\n",
       "      <th>Rate</th>\n",
       "      <th>Verbal</th>\n",
       "      <th>Math</th>\n",
       "    </tr>\n",
       "  </thead>\n",
       "  <tbody>\n",
       "    <tr>\n",
       "      <th>0</th>\n",
       "      <td>CT</td>\n",
       "      <td>82</td>\n",
       "      <td>509</td>\n",
       "      <td>510</td>\n",
       "    </tr>\n",
       "    <tr>\n",
       "      <th>1</th>\n",
       "      <td>NJ</td>\n",
       "      <td>81</td>\n",
       "      <td>499</td>\n",
       "      <td>513</td>\n",
       "    </tr>\n",
       "    <tr>\n",
       "      <th>2</th>\n",
       "      <td>MA</td>\n",
       "      <td>79</td>\n",
       "      <td>511</td>\n",
       "      <td>515</td>\n",
       "    </tr>\n",
       "    <tr>\n",
       "      <th>3</th>\n",
       "      <td>NY</td>\n",
       "      <td>77</td>\n",
       "      <td>495</td>\n",
       "      <td>505</td>\n",
       "    </tr>\n",
       "    <tr>\n",
       "      <th>4</th>\n",
       "      <td>NH</td>\n",
       "      <td>72</td>\n",
       "      <td>520</td>\n",
       "      <td>516</td>\n",
       "    </tr>\n",
       "    <tr>\n",
       "      <th>5</th>\n",
       "      <td>RI</td>\n",
       "      <td>71</td>\n",
       "      <td>501</td>\n",
       "      <td>499</td>\n",
       "    </tr>\n",
       "    <tr>\n",
       "      <th>6</th>\n",
       "      <td>PA</td>\n",
       "      <td>71</td>\n",
       "      <td>500</td>\n",
       "      <td>499</td>\n",
       "    </tr>\n",
       "    <tr>\n",
       "      <th>7</th>\n",
       "      <td>VT</td>\n",
       "      <td>69</td>\n",
       "      <td>511</td>\n",
       "      <td>506</td>\n",
       "    </tr>\n",
       "    <tr>\n",
       "      <th>8</th>\n",
       "      <td>ME</td>\n",
       "      <td>69</td>\n",
       "      <td>506</td>\n",
       "      <td>500</td>\n",
       "    </tr>\n",
       "    <tr>\n",
       "      <th>9</th>\n",
       "      <td>VA</td>\n",
       "      <td>68</td>\n",
       "      <td>510</td>\n",
       "      <td>501</td>\n",
       "    </tr>\n",
       "  </tbody>\n",
       "</table>\n",
       "</div>"
      ],
      "text/plain": [
       "  State  Rate  Verbal  Math\n",
       "0    CT    82     509   510\n",
       "1    NJ    81     499   513\n",
       "2    MA    79     511   515\n",
       "3    NY    77     495   505\n",
       "4    NH    72     520   516\n",
       "5    RI    71     501   499\n",
       "6    PA    71     500   499\n",
       "7    VT    69     511   506\n",
       "8    ME    69     506   500\n",
       "9    VA    68     510   501"
      ]
     },
     "execution_count": 11,
     "metadata": {},
     "output_type": "execute_result"
    }
   ],
   "source": [
    "#using builtin function .head(num) to look for first 10rows of of dataframe\n",
    "sat_score.head(10)"
   ]
  },
  {
   "cell_type": "code",
   "execution_count": 12,
   "metadata": {},
   "outputs": [],
   "source": [
    "#The data has 4 columns which include state name, rate as well as verbal and Math scores"
   ]
  },
  {
   "cell_type": "code",
   "execution_count": 13,
   "metadata": {},
   "outputs": [
    {
     "data": {
      "text/html": [
       "<div>\n",
       "<style scoped>\n",
       "    .dataframe tbody tr th:only-of-type {\n",
       "        vertical-align: middle;\n",
       "    }\n",
       "\n",
       "    .dataframe tbody tr th {\n",
       "        vertical-align: top;\n",
       "    }\n",
       "\n",
       "    .dataframe thead th {\n",
       "        text-align: right;\n",
       "    }\n",
       "</style>\n",
       "<table border=\"1\" class=\"dataframe\">\n",
       "  <thead>\n",
       "    <tr style=\"text-align: right;\">\n",
       "      <th></th>\n",
       "      <th>Rate</th>\n",
       "      <th>Verbal</th>\n",
       "      <th>Math</th>\n",
       "    </tr>\n",
       "  </thead>\n",
       "  <tbody>\n",
       "    <tr>\n",
       "      <th>count</th>\n",
       "      <td>52.000000</td>\n",
       "      <td>52.000000</td>\n",
       "      <td>52.000000</td>\n",
       "    </tr>\n",
       "    <tr>\n",
       "      <th>mean</th>\n",
       "      <td>37.153846</td>\n",
       "      <td>532.019231</td>\n",
       "      <td>531.500000</td>\n",
       "    </tr>\n",
       "    <tr>\n",
       "      <th>std</th>\n",
       "      <td>27.301788</td>\n",
       "      <td>33.236225</td>\n",
       "      <td>36.014975</td>\n",
       "    </tr>\n",
       "    <tr>\n",
       "      <th>min</th>\n",
       "      <td>4.000000</td>\n",
       "      <td>482.000000</td>\n",
       "      <td>439.000000</td>\n",
       "    </tr>\n",
       "    <tr>\n",
       "      <th>25%</th>\n",
       "      <td>9.000000</td>\n",
       "      <td>501.000000</td>\n",
       "      <td>504.000000</td>\n",
       "    </tr>\n",
       "    <tr>\n",
       "      <th>50%</th>\n",
       "      <td>33.500000</td>\n",
       "      <td>526.500000</td>\n",
       "      <td>521.000000</td>\n",
       "    </tr>\n",
       "    <tr>\n",
       "      <th>75%</th>\n",
       "      <td>63.500000</td>\n",
       "      <td>562.000000</td>\n",
       "      <td>555.750000</td>\n",
       "    </tr>\n",
       "    <tr>\n",
       "      <th>max</th>\n",
       "      <td>82.000000</td>\n",
       "      <td>593.000000</td>\n",
       "      <td>603.000000</td>\n",
       "    </tr>\n",
       "  </tbody>\n",
       "</table>\n",
       "</div>"
      ],
      "text/plain": [
       "            Rate      Verbal        Math\n",
       "count  52.000000   52.000000   52.000000\n",
       "mean   37.153846  532.019231  531.500000\n",
       "std    27.301788   33.236225   36.014975\n",
       "min     4.000000  482.000000  439.000000\n",
       "25%     9.000000  501.000000  504.000000\n",
       "50%    33.500000  526.500000  521.000000\n",
       "75%    63.500000  562.000000  555.750000\n",
       "max    82.000000  593.000000  603.000000"
      ]
     },
     "execution_count": 13,
     "metadata": {},
     "output_type": "execute_result"
    }
   ],
   "source": [
    "sat_score.describe()\n",
    "\n",
    "# we can find 52 rows of data, The mean value of verbal and Math score is is about 532 and has standard deviation of 36.\n"
   ]
  },
  {
   "cell_type": "markdown",
   "metadata": {},
   "source": [
    "<img src=\"http://imgur.com/l5NasQj.png\" style=\"float: left; margin: 25px 15px 0px 0px; height: 25px\">\n",
    "\n",
    "## 2. Create a \"data dictionary\" based on the data\n",
    "\n",
    "---\n",
    "\n",
    "A data dictionary is an object that describes your data. This should contain the name of each variable (column), the type of the variable, your description of what the variable is, and the shape (rows and columns) of the entire dataset."
   ]
  },
  {
   "cell_type": "code",
   "execution_count": 14,
   "metadata": {},
   "outputs": [],
   "source": [
    "data={'columns':('State','Rate','Verbal','Math'),'types_of_variables':(str,int,int,int),'description':{'State':'Name','Rate':'Acceptance rate', 'Verbal':'Verbal score','Math':'Math score'},'shape':{'rows':53,'columns':5}}\n"
   ]
  },
  {
   "cell_type": "markdown",
   "metadata": {},
   "source": [
    "<img src=\"http://imgur.com/l5NasQj.png\" style=\"float: left; margin: 25px 15px 0px 0px; height: 25px\">\n",
    "\n",
    "## 3. Plot the data using seaborn\n",
    "\n",
    "---\n",
    "\n",
    "### 3.1 Using seaborn's `distplot`, plot the distributions for each of `Rate`, `Math`, and `Verbal`\n",
    "\n",
    "Set the keyword argument `kde=False`. This way you can actually see the counts within bins. You can adjust the number of bins to your liking. \n",
    "\n",
    "[Please read over the `distplot` documentation to learn about the arguments and fine-tune your chart if you want.](https://stanford.edu/~mwaskom/software/seaborn/generated/seaborn.distplot.html#seaborn.distplot)"
   ]
  },
  {
   "cell_type": "code",
   "execution_count": 15,
   "metadata": {},
   "outputs": [
    {
     "data": {
      "text/plain": [
       "<matplotlib.axes._subplots.AxesSubplot at 0x12f7dd4fe48>"
      ]
     },
     "execution_count": 15,
     "metadata": {},
     "output_type": "execute_result"
    },
    {
     "data": {
      "image/png": "[encoded data removed]",
      "text/plain": [
       "<Figure size 432x288 with 1 Axes>"
      ]
     },
     "metadata": {
      "image/png": {
       "height": 263,
       "width": 370
      },
      "needs_background": "light"
     },
     "output_type": "display_data"
    }
   ],
   "source": [
    "#Distribution of Rate, Math and Verbal scores are plotted using distplot.\n",
    "\n",
    "import seaborn as sns\n",
    "%matplotlib inline\n",
    "sns.distplot(sat_score['Rate'],kde=False,bins=10)"
   ]
  },
  {
   "cell_type": "code",
   "execution_count": 16,
   "metadata": {},
   "outputs": [
    {
     "data": {
      "text/plain": [
       "<matplotlib.axes._subplots.AxesSubplot at 0x12f7e0e7198>"
      ]
     },
     "execution_count": 16,
     "metadata": {},
     "output_type": "execute_result"
    },
    {
     "data": {
      "image/png": "[encoded data removed]",
      "text/plain": [
       "<Figure size 432x288 with 1 Axes>"
      ]
     },
     "metadata": {
      "image/png": {
       "height": 263,
       "width": 370
      },
      "needs_background": "light"
     },
     "output_type": "display_data"
    }
   ],
   "source": [
    "import seaborn as sns\n",
    "%matplotlib inline\n",
    "sns.distplot(sat_score['Math'],kde=False,bins=10)\n"
   ]
  },
  {
   "cell_type": "code",
   "execution_count": 17,
   "metadata": {},
   "outputs": [
    {
     "data": {
      "text/plain": [
       "<matplotlib.axes._subplots.AxesSubplot at 0x12f7e128c88>"
      ]
     },
     "execution_count": 17,
     "metadata": {},
     "output_type": "execute_result"
    },
    {
     "data": {
      "image/png": "[encoded data removed]",
      "text/plain": [
       "<Figure size 432x288 with 1 Axes>"
      ]
     },
     "metadata": {
      "image/png": {
       "height": 263,
       "width": 364
      },
      "needs_background": "light"
     },
     "output_type": "display_data"
    }
   ],
   "source": [
    "\n",
    "sns.distplot(sat_score['Verbal'],kde=False,bins=10)\n"
   ]
  },
  {
   "cell_type": "markdown",
   "metadata": {},
   "source": [
    "### 3.2 Using seaborn's `pairplot`, show the joint distributions for each of `Rate`, `Math`, and `Verbal`\n",
    "\n",
    "Explain what the visualization tells you about your data.\n",
    "\n",
    "[Please read over the `pairplot` documentation to fine-tune your chart.](https://stanford.edu/~mwaskom/software/seaborn/generated/seaborn.pairplot.html#seaborn.pairplot)"
   ]
  },
  {
   "cell_type": "markdown",
   "metadata": {},
   "source": [
    "The pairplot of sat_score shown below gives us more information about relationship about the variables. \n",
    "Both Verabal and Math scores start to decrease with the increase in rate data. The Verbal and Math score has linear realtionship."
   ]
  },
  {
   "cell_type": "code",
   "execution_count": 18,
   "metadata": {},
   "outputs": [
    {
     "data": {
      "text/plain": [
       "<seaborn.axisgrid.PairGrid at 0x12f7e3125c0>"
      ]
     },
     "execution_count": 18,
     "metadata": {},
     "output_type": "execute_result"
    },
    {
     "data": {
      "image/png": "[encoded data removed]",
      "text/plain": [
       "<Figure size 540x540 with 12 Axes>"
      ]
     },
     "metadata": {
      "image/png": {
       "height": 529,
       "width": 526
      },
      "needs_background": "light"
     },
     "output_type": "display_data"
    }
   ],
   "source": [
    "sns.pairplot(sat_score)\n"
   ]
  },
  {
   "cell_type": "markdown",
   "metadata": {},
   "source": [
    "<img src=\"http://imgur.com/l5NasQj.png\" style=\"float: left; margin: 25px 15px 0px 0px; height: 25px\">\n",
    "\n",
    "## 4. Plot the data using built-in pandas functions.\n",
    "\n",
    "---\n",
    "\n",
    "Pandas is very powerful and contains a variety of nice, built-in plotting functions for your data. Read the documentation here to understand the capabilities:\n",
    "\n",
    "http://pandas.pydata.org/pandas-docs/stable/visualization.html\n",
    "\n",
    "### 4.1 Plot a stacked histogram with `Verbal` and `Math` using pandas"
   ]
  },
  {
   "cell_type": "code",
   "execution_count": 19,
   "metadata": {},
   "outputs": [
    {
     "data": {
      "text/plain": [
       "<matplotlib.axes._subplots.AxesSubplot at 0x12f7fb5a160>"
      ]
     },
     "execution_count": 19,
     "metadata": {},
     "output_type": "execute_result"
    },
    {
     "data": {
      "image/png": "[encoded data removed]",
      "text/plain": [
       "<Figure size 864x576 with 1 Axes>"
      ]
     },
     "metadata": {
      "image/png": {
       "height": 467,
       "width": 719
      },
      "needs_background": "light"
     },
     "output_type": "display_data"
    }
   ],
   "source": [
    "# Plotting stacked histogram using Verbal and Math data from dataframe \n",
    "# sat_score[['Verbal','Math']].plot(kind='hist',stacked=True,figsize=(12,6),bins=20)---This is another method\n",
    "sat_score[['Verbal','Math']].plot.hist(stacked=True, bins=20,figsize=(12,8))"
   ]
  },
  {
   "cell_type": "markdown",
   "metadata": {},
   "source": [
    "### 4.2 Plot `Verbal` and `Math` on the same chart using boxplots\n",
    "\n",
    "What are the benefits of using a boxplot as compared to a scatterplot or a histogram?\n",
    "\n",
    "What's wrong with plotting a box-plot of `Rate` on the same chart as `Math` and `Verbal`?"
   ]
  },
  {
   "cell_type": "code",
   "execution_count": 20,
   "metadata": {},
   "outputs": [
    {
     "data": {
      "text/plain": [
       "<matplotlib.axes._subplots.AxesSubplot at 0x12f004d1f60>"
      ]
     },
     "execution_count": 20,
     "metadata": {},
     "output_type": "execute_result"
    },
    {
     "data": {
      "image/png": "[encoded data removed]",
      "text/plain": [
       "<Figure size 432x288 with 1 Axes>"
      ]
     },
     "metadata": {
      "image/png": {
       "height": 250,
       "width": 377
      },
      "needs_background": "light"
     },
     "output_type": "display_data"
    }
   ],
   "source": [
    "sat_score[['Verbal','Math']].plot.box()"
   ]
  },
  {
   "cell_type": "code",
   "execution_count": 21,
   "metadata": {},
   "outputs": [
    {
     "data": {
      "text/plain": [
       "<matplotlib.axes._subplots.AxesSubplot at 0x12f00541080>"
      ]
     },
     "execution_count": 21,
     "metadata": {},
     "output_type": "execute_result"
    },
    {
     "data": {
      "image/png": "[encoded data removed]",
      "text/plain": [
       "<Figure size 432x288 with 1 Axes>"
      ]
     },
     "metadata": {
      "image/png": {
       "height": 250,
       "width": 377
      },
      "needs_background": "light"
     },
     "output_type": "display_data"
    }
   ],
   "source": [
    "sat_score.plot.box()\n",
    "# The graph below shows box-plot with Rate, Math and Verbal data. As shown,it is hard to visualize altogether. \n",
    "# Because they are of different scale. "
   ]
  },
  {
   "cell_type": "markdown",
   "metadata": {},
   "source": [
    "<img src=\"http://imgur.com/xDpSobf.png\" style=\"float: left; margin: 25px 15px 0px 0px; height: 25px\">\n",
    "\n",
    "### 4.3 Plot `Verbal`, `Math`, and `Rate` appropriately on the same boxplot chart\n",
    "\n",
    "Think about how you might change the variables so that they would make sense on the same chart. Explain your rationale for the choices on the chart. You should strive to make the chart as intuitive as possible. \n"
   ]
  },
  {
   "cell_type": "code",
   "execution_count": 22,
   "metadata": {},
   "outputs": [
    {
     "data": {
      "text/plain": [
       "<matplotlib.axes._subplots.AxesSubplot at 0x12f00607cc0>"
      ]
     },
     "execution_count": 22,
     "metadata": {},
     "output_type": "execute_result"
    },
    {
     "data": {
      "image/png": "[encoded data removed]",
      "text/plain": [
       "<Figure size 432x288 with 1 Axes>"
      ]
     },
     "metadata": {
      "image/png": {
       "height": 250,
       "width": 372
      },
      "needs_background": "light"
     },
     "output_type": "display_data"
    }
   ],
   "source": [
    "#Rescaling variable is essential before plotting data with different scale. \n",
    "# Standardization which makes the distribution of each variable to have a mean of 0 and \n",
    "# a standard deviation of 1 is the best way to plot the data points.\n",
    "\n",
    "sat_score_new=sat_score[['Rate','Verbal','Math']]\n",
    "sat_score_stand=(sat_score_new-sat_score_new.mean())/sat_score_new.std()\n",
    "sat_score_stand.plot.box()\n"
   ]
  },
  {
   "cell_type": "markdown",
   "metadata": {},
   "source": [
    "<img src=\"http://imgur.com/l5NasQj.png\" style=\"float: left; margin: 25px 15px 0px 0px; height: 25px\">\n",
    "\n",
    "## 5. Create and examine subsets of the data\n",
    "\n",
    "---\n",
    "\n",
    "For these questions you will practice **masking** in pandas. Masking uses conditional statements to select portions of your DataFrame (through boolean operations under the hood.)\n",
    "\n",
    "Remember the distinction between DataFrame indexing functions in pandas:\n",
    "\n",
    "    .iloc[row, col] : row and column are specified by index, which are integers\n",
    "    .loc[row, col]  : row and column are specified by string \"labels\" (boolean arrays are allowed; useful for rows)\n",
    "    .ix[row, col]   : row and column indexers can be a mix of labels and integer indices\n",
    "    \n",
    "For detailed reference and tutorial make sure to read over the pandas documentation:\n",
    "\n",
    "http://pandas.pydata.org/pandas-docs/stable/indexing.html\n",
    "\n",
    "\n",
    "\n",
    "### 5.1 Find the list of states that have `Verbal` scores greater than the average of `Verbal` scores across states\n",
    "\n",
    "How many states are above the mean? What does this tell you about the distribution of `Verbal` scores?\n",
    "\n",
    "\n"
   ]
  },
  {
   "cell_type": "code",
   "execution_count": 23,
   "metadata": {},
   "outputs": [
    {
     "name": "stdout",
     "output_type": "stream",
     "text": [
      "532.0192307692307\n"
     ]
    }
   ],
   "source": [
    "verb_avg=np.mean(sat_score['Verbal'])\n",
    "print(verb_avg)"
   ]
  },
  {
   "cell_type": "code",
   "execution_count": 24,
   "metadata": {},
   "outputs": [
    {
     "data": {
      "text/plain": [
       "(52,)"
      ]
     },
     "execution_count": 24,
     "metadata": {},
     "output_type": "execute_result"
    }
   ],
   "source": [
    "sat_score['Verbal'].shape"
   ]
  },
  {
   "cell_type": "code",
   "execution_count": 25,
   "metadata": {},
   "outputs": [
    {
     "name": "stdout",
     "output_type": "stream",
     "text": [
      "   State  Rate  Verbal  Math\n",
      "26    CO    31     539   542\n",
      "27    OH    26     534   439\n",
      "28    MT    23     539   539\n",
      "30    ID    17     543   542\n",
      "31    TN    13     562   553\n",
      "32    NM    13     551   542\n",
      "33    IL    12     576   589\n",
      "34    KY    12     550   550\n",
      "35    WY    11     547   545\n",
      "36    MI    11     561   572\n",
      "37    MN     9     580   589\n",
      "38    KS     9     577   580\n",
      "39    AL     9     559   554\n",
      "40    NE     8     562   568\n",
      "41    OK     8     567   561\n",
      "42    MO     8     577   577\n",
      "43    LA     7     564   562\n",
      "44    WI     6     584   596\n",
      "45    AR     6     562   550\n",
      "46    UT     5     575   570\n",
      "47    IA     5     593   603\n",
      "48    SD     4     577   582\n",
      "49    ND     4     592   599\n",
      "50    MS     4     566   551\n"
     ]
    }
   ],
   "source": [
    "verb_avg=np.mean(sat_score['Verbal'])\n",
    "verb_above_avg=sat_score['Verbal']>verb_avg\n",
    "\n",
    "print(sat_score[verb_above_avg])\n"
   ]
  },
  {
   "cell_type": "code",
   "execution_count": 26,
   "metadata": {},
   "outputs": [
    {
     "name": "stdout",
     "output_type": "stream",
     "text": [
      "(24, 4)\n"
     ]
    }
   ],
   "source": [
    "print(sat_score[verb_above_avg].shape)"
   ]
  },
  {
   "cell_type": "code",
   "execution_count": 27,
   "metadata": {},
   "outputs": [
    {
     "data": {
      "text/plain": [
       "26    CO\n",
       "27    OH\n",
       "28    MT\n",
       "30    ID\n",
       "31    TN\n",
       "32    NM\n",
       "33    IL\n",
       "34    KY\n",
       "35    WY\n",
       "36    MI\n",
       "37    MN\n",
       "38    KS\n",
       "39    AL\n",
       "40    NE\n",
       "41    OK\n",
       "42    MO\n",
       "43    LA\n",
       "44    WI\n",
       "45    AR\n",
       "46    UT\n",
       "47    IA\n",
       "48    SD\n",
       "49    ND\n",
       "50    MS\n",
       "Name: State, dtype: object"
      ]
     },
     "execution_count": 27,
     "metadata": {},
     "output_type": "execute_result"
    }
   ],
   "source": [
    "#List of states that have Verbal scores greater than the average of Verbal scores across states\n",
    "\n",
    "State_verb_above_avg=sat_score[verb_above_avg]['State']\n",
    "State_verb_above_avg"
   ]
  },
  {
   "cell_type": "markdown",
   "metadata": {},
   "source": [
    "### 5.2 Find the list of states that have `Verbal` scores greater than the median of `Verbal` scores across states\n",
    "\n",
    "How does this compare to the list of states greater than the mean of `Verbal` scores? Why?"
   ]
  },
  {
   "cell_type": "code",
   "execution_count": 28,
   "metadata": {},
   "outputs": [
    {
     "name": "stdout",
     "output_type": "stream",
     "text": [
      "526.5\n"
     ]
    }
   ],
   "source": [
    "verb_med=np.median(sat_score['Verbal'])\n",
    "print(verb_med)"
   ]
  },
  {
   "cell_type": "code",
   "execution_count": 29,
   "metadata": {},
   "outputs": [
    {
     "name": "stdout",
     "output_type": "stream",
     "text": [
      "   State  Rate  Verbal  Math\n",
      "19    WA    53     527   527\n",
      "26    CO    31     539   542\n",
      "27    OH    26     534   439\n",
      "28    MT    23     539   539\n",
      "29    WV    18     527   512\n",
      "30    ID    17     543   542\n",
      "31    TN    13     562   553\n",
      "32    NM    13     551   542\n",
      "33    IL    12     576   589\n",
      "34    KY    12     550   550\n",
      "35    WY    11     547   545\n",
      "36    MI    11     561   572\n",
      "37    MN     9     580   589\n",
      "38    KS     9     577   580\n",
      "39    AL     9     559   554\n",
      "40    NE     8     562   568\n",
      "41    OK     8     567   561\n",
      "42    MO     8     577   577\n",
      "43    LA     7     564   562\n",
      "44    WI     6     584   596\n",
      "45    AR     6     562   550\n",
      "46    UT     5     575   570\n",
      "47    IA     5     593   603\n",
      "48    SD     4     577   582\n",
      "49    ND     4     592   599\n",
      "50    MS     4     566   551\n"
     ]
    }
   ],
   "source": [
    "\n",
    "verb_above_med=sat_score['Verbal']>verb_med\n",
    "\n",
    "print(sat_score[verb_above_med])"
   ]
  },
  {
   "cell_type": "code",
   "execution_count": 30,
   "metadata": {},
   "outputs": [
    {
     "data": {
      "text/plain": [
       "19    WA\n",
       "26    CO\n",
       "27    OH\n",
       "28    MT\n",
       "29    WV\n",
       "30    ID\n",
       "31    TN\n",
       "32    NM\n",
       "33    IL\n",
       "34    KY\n",
       "35    WY\n",
       "36    MI\n",
       "37    MN\n",
       "38    KS\n",
       "39    AL\n",
       "40    NE\n",
       "41    OK\n",
       "42    MO\n",
       "43    LA\n",
       "44    WI\n",
       "45    AR\n",
       "46    UT\n",
       "47    IA\n",
       "48    SD\n",
       "49    ND\n",
       "50    MS\n",
       "Name: State, dtype: object"
      ]
     },
     "execution_count": 30,
     "metadata": {},
     "output_type": "execute_result"
    }
   ],
   "source": [
    "sat_score[verb_above_med]['State']"
   ]
  },
  {
   "cell_type": "code",
   "execution_count": null,
   "metadata": {},
   "outputs": [],
   "source": []
  },
  {
   "cell_type": "markdown",
   "metadata": {},
   "source": [
    "### 5.3 Create a column that is the difference between the `Verbal` and `Math` scores\n",
    "\n",
    "Specifically, this should be `Verbal - Math`."
   ]
  },
  {
   "cell_type": "code",
   "execution_count": 31,
   "metadata": {},
   "outputs": [
    {
     "data": {
      "text/html": [
       "<div>\n",
       "<style scoped>\n",
       "    .dataframe tbody tr th:only-of-type {\n",
       "        vertical-align: middle;\n",
       "    }\n",
       "\n",
       "    .dataframe tbody tr th {\n",
       "        vertical-align: top;\n",
       "    }\n",
       "\n",
       "    .dataframe thead th {\n",
       "        text-align: right;\n",
       "    }\n",
       "</style>\n",
       "<table border=\"1\" class=\"dataframe\">\n",
       "  <thead>\n",
       "    <tr style=\"text-align: right;\">\n",
       "      <th></th>\n",
       "      <th>State</th>\n",
       "      <th>Rate</th>\n",
       "      <th>Verbal</th>\n",
       "      <th>Math</th>\n",
       "      <th>Verbal_minus_Math</th>\n",
       "    </tr>\n",
       "  </thead>\n",
       "  <tbody>\n",
       "    <tr>\n",
       "      <th>0</th>\n",
       "      <td>CT</td>\n",
       "      <td>82</td>\n",
       "      <td>509</td>\n",
       "      <td>510</td>\n",
       "      <td>-1</td>\n",
       "    </tr>\n",
       "    <tr>\n",
       "      <th>1</th>\n",
       "      <td>NJ</td>\n",
       "      <td>81</td>\n",
       "      <td>499</td>\n",
       "      <td>513</td>\n",
       "      <td>-14</td>\n",
       "    </tr>\n",
       "    <tr>\n",
       "      <th>2</th>\n",
       "      <td>MA</td>\n",
       "      <td>79</td>\n",
       "      <td>511</td>\n",
       "      <td>515</td>\n",
       "      <td>-4</td>\n",
       "    </tr>\n",
       "    <tr>\n",
       "      <th>3</th>\n",
       "      <td>NY</td>\n",
       "      <td>77</td>\n",
       "      <td>495</td>\n",
       "      <td>505</td>\n",
       "      <td>-10</td>\n",
       "    </tr>\n",
       "    <tr>\n",
       "      <th>4</th>\n",
       "      <td>NH</td>\n",
       "      <td>72</td>\n",
       "      <td>520</td>\n",
       "      <td>516</td>\n",
       "      <td>4</td>\n",
       "    </tr>\n",
       "  </tbody>\n",
       "</table>\n",
       "</div>"
      ],
      "text/plain": [
       "  State  Rate  Verbal  Math  Verbal_minus_Math\n",
       "0    CT    82     509   510                 -1\n",
       "1    NJ    81     499   513                -14\n",
       "2    MA    79     511   515                 -4\n",
       "3    NY    77     495   505                -10\n",
       "4    NH    72     520   516                  4"
      ]
     },
     "execution_count": 31,
     "metadata": {},
     "output_type": "execute_result"
    }
   ],
   "source": [
    "sat_score['Verbal_minus_Math']=sat_score['Verbal']-sat_score['Math']\n",
    "sat_score.head()\n"
   ]
  },
  {
   "cell_type": "markdown",
   "metadata": {},
   "source": [
    "### 5.4 Create two new DataFrames showing states with the greatest difference between scores\n",
    "\n",
    "1. Your first DataFrame should be the 10 states with the greatest gap between `Verbal` and `Math` scores where `Verbal` is greater than `Math`. It should be sorted appropriately to show the ranking of states.\n",
    "2. Your second DataFrame will be the inverse: states with the greatest gap between `Verbal` and `Math` such that `Math` is greater than `Verbal`. Again, this should be sorted appropriately to show rank.\n",
    "3. Print the header of both variables, only showing the top 3 states in each."
   ]
  },
  {
   "cell_type": "code",
   "execution_count": 32,
   "metadata": {},
   "outputs": [
    {
     "data": {
      "text/html": [
       "<div>\n",
       "<style scoped>\n",
       "    .dataframe tbody tr th:only-of-type {\n",
       "        vertical-align: middle;\n",
       "    }\n",
       "\n",
       "    .dataframe tbody tr th {\n",
       "        vertical-align: top;\n",
       "    }\n",
       "\n",
       "    .dataframe thead th {\n",
       "        text-align: right;\n",
       "    }\n",
       "</style>\n",
       "<table border=\"1\" class=\"dataframe\">\n",
       "  <thead>\n",
       "    <tr style=\"text-align: right;\">\n",
       "      <th></th>\n",
       "      <th>State</th>\n",
       "      <th>Rate</th>\n",
       "      <th>Verbal</th>\n",
       "      <th>Math</th>\n",
       "      <th>Verbal_minus_Math</th>\n",
       "    </tr>\n",
       "  </thead>\n",
       "  <tbody>\n",
       "    <tr>\n",
       "      <th>0</th>\n",
       "      <td>OH</td>\n",
       "      <td>26</td>\n",
       "      <td>534</td>\n",
       "      <td>439</td>\n",
       "      <td>95</td>\n",
       "    </tr>\n",
       "    <tr>\n",
       "      <th>1</th>\n",
       "      <td>MS</td>\n",
       "      <td>4</td>\n",
       "      <td>566</td>\n",
       "      <td>551</td>\n",
       "      <td>15</td>\n",
       "    </tr>\n",
       "    <tr>\n",
       "      <th>2</th>\n",
       "      <td>WV</td>\n",
       "      <td>18</td>\n",
       "      <td>527</td>\n",
       "      <td>512</td>\n",
       "      <td>15</td>\n",
       "    </tr>\n",
       "    <tr>\n",
       "      <th>3</th>\n",
       "      <td>AR</td>\n",
       "      <td>6</td>\n",
       "      <td>562</td>\n",
       "      <td>550</td>\n",
       "      <td>12</td>\n",
       "    </tr>\n",
       "    <tr>\n",
       "      <th>4</th>\n",
       "      <td>NM</td>\n",
       "      <td>13</td>\n",
       "      <td>551</td>\n",
       "      <td>542</td>\n",
       "      <td>9</td>\n",
       "    </tr>\n",
       "    <tr>\n",
       "      <th>5</th>\n",
       "      <td>TN</td>\n",
       "      <td>13</td>\n",
       "      <td>562</td>\n",
       "      <td>553</td>\n",
       "      <td>9</td>\n",
       "    </tr>\n",
       "    <tr>\n",
       "      <th>6</th>\n",
       "      <td>VA</td>\n",
       "      <td>68</td>\n",
       "      <td>510</td>\n",
       "      <td>501</td>\n",
       "      <td>9</td>\n",
       "    </tr>\n",
       "    <tr>\n",
       "      <th>7</th>\n",
       "      <td>DC</td>\n",
       "      <td>56</td>\n",
       "      <td>482</td>\n",
       "      <td>474</td>\n",
       "      <td>8</td>\n",
       "    </tr>\n",
       "    <tr>\n",
       "      <th>8</th>\n",
       "      <td>ME</td>\n",
       "      <td>69</td>\n",
       "      <td>506</td>\n",
       "      <td>500</td>\n",
       "      <td>6</td>\n",
       "    </tr>\n",
       "    <tr>\n",
       "      <th>9</th>\n",
       "      <td>OK</td>\n",
       "      <td>8</td>\n",
       "      <td>567</td>\n",
       "      <td>561</td>\n",
       "      <td>6</td>\n",
       "    </tr>\n",
       "  </tbody>\n",
       "</table>\n",
       "</div>"
      ],
      "text/plain": [
       "  State  Rate  Verbal  Math  Verbal_minus_Math\n",
       "0    OH    26     534   439                 95\n",
       "1    MS     4     566   551                 15\n",
       "2    WV    18     527   512                 15\n",
       "3    AR     6     562   550                 12\n",
       "4    NM    13     551   542                  9\n",
       "5    TN    13     562   553                  9\n",
       "6    VA    68     510   501                  9\n",
       "7    DC    56     482   474                  8\n",
       "8    ME    69     506   500                  6\n",
       "9    OK     8     567   561                  6"
      ]
     },
     "execution_count": 32,
     "metadata": {},
     "output_type": "execute_result"
    }
   ],
   "source": [
    "#df1 is the dataframe with Verbal is greater than Math\n",
    "\n",
    "df1=sat_score.sort_values('Verbal_minus_Math', ascending=False).head(10)\n",
    "\n",
    "df1.reset_index(drop=True, inplace=True)\n",
    "df1"
   ]
  },
  {
   "cell_type": "code",
   "execution_count": 33,
   "metadata": {},
   "outputs": [
    {
     "data": {
      "text/plain": [
       "0    OH\n",
       "1    MS\n",
       "2    WV\n",
       "Name: State, dtype: object"
      ]
     },
     "execution_count": 33,
     "metadata": {},
     "output_type": "execute_result"
    }
   ],
   "source": [
    "a=df1['State'][0:3]\n",
    "a"
   ]
  },
  {
   "cell_type": "code",
   "execution_count": 34,
   "metadata": {},
   "outputs": [],
   "source": [
    "df2=sat_score.sort_values('Verbal_minus_Math', ascending=False).tail(10)\n",
    "df3=df2.sort_values('Verbal_minus_Math', ascending=True)\n",
    "df3.reset_index(drop=True,inplace=True)"
   ]
  },
  {
   "cell_type": "code",
   "execution_count": 35,
   "metadata": {},
   "outputs": [
    {
     "data": {
      "text/plain": [
       "0    HI\n",
       "1    CA\n",
       "2    NJ\n",
       "Name: State, dtype: object"
      ]
     },
     "execution_count": 35,
     "metadata": {},
     "output_type": "execute_result"
    }
   ],
   "source": [
    "b=df3['State'][0:3]\n",
    "b.reset_index(drop=True)"
   ]
  },
  {
   "cell_type": "code",
   "execution_count": 36,
   "metadata": {},
   "outputs": [
    {
     "name": "stdout",
     "output_type": "stream",
     "text": [
      "The top 3 states with Verbal is greater than Math is 0    OH\n",
      "1    MS\n",
      "2    WV\n",
      "Name: State, dtype: object\n"
     ]
    }
   ],
   "source": [
    "print('The top 3 states with Verbal is greater than Math is', a)\n"
   ]
  },
  {
   "cell_type": "code",
   "execution_count": 37,
   "metadata": {},
   "outputs": [
    {
     "name": "stdout",
     "output_type": "stream",
     "text": [
      "The top 3 states with Math is greater than Verbal is 0    HI\n",
      "1    CA\n",
      "2    NJ\n",
      "Name: State, dtype: object\n"
     ]
    }
   ],
   "source": [
    "print('The top 3 states with Math is greater than Verbal is', b)"
   ]
  },
  {
   "cell_type": "markdown",
   "metadata": {},
   "source": [
    "## 6. Examine summary statistics\n",
    "\n",
    "---\n",
    "\n",
    "Checking the summary statistics for data is an essential step in the EDA process!\n",
    "\n",
    "<img src=\"http://imgur.com/l5NasQj.png\" style=\"float: left; margin: 25px 15px 0px 0px; height: 25px\">\n",
    "\n",
    "### 6.1 Create the correlation matrix of your variables (excluding `State`).\n",
    "\n",
    "What does the correlation matrix tell you?\n"
   ]
  },
  {
   "cell_type": "code",
   "execution_count": 38,
   "metadata": {},
   "outputs": [
    {
     "data": {
      "text/html": [
       "<div>\n",
       "<style scoped>\n",
       "    .dataframe tbody tr th:only-of-type {\n",
       "        vertical-align: middle;\n",
       "    }\n",
       "\n",
       "    .dataframe tbody tr th {\n",
       "        vertical-align: top;\n",
       "    }\n",
       "\n",
       "    .dataframe thead th {\n",
       "        text-align: right;\n",
       "    }\n",
       "</style>\n",
       "<table border=\"1\" class=\"dataframe\">\n",
       "  <thead>\n",
       "    <tr style=\"text-align: right;\">\n",
       "      <th></th>\n",
       "      <th>Rate</th>\n",
       "      <th>Verbal</th>\n",
       "      <th>Math</th>\n",
       "    </tr>\n",
       "  </thead>\n",
       "  <tbody>\n",
       "    <tr>\n",
       "      <th>Rate</th>\n",
       "      <td>1.000000</td>\n",
       "      <td>-0.886432</td>\n",
       "      <td>-0.773746</td>\n",
       "    </tr>\n",
       "    <tr>\n",
       "      <th>Verbal</th>\n",
       "      <td>-0.886432</td>\n",
       "      <td>1.000000</td>\n",
       "      <td>0.899871</td>\n",
       "    </tr>\n",
       "    <tr>\n",
       "      <th>Math</th>\n",
       "      <td>-0.773746</td>\n",
       "      <td>0.899871</td>\n",
       "      <td>1.000000</td>\n",
       "    </tr>\n",
       "  </tbody>\n",
       "</table>\n",
       "</div>"
      ],
      "text/plain": [
       "            Rate    Verbal      Math\n",
       "Rate    1.000000 -0.886432 -0.773746\n",
       "Verbal -0.886432  1.000000  0.899871\n",
       "Math   -0.773746  0.899871  1.000000"
      ]
     },
     "execution_count": 38,
     "metadata": {},
     "output_type": "execute_result"
    }
   ],
   "source": [
    "\n",
    "sat_score_new=sat_score.drop(columns=['State','Verbal_minus_Math'],axis=1)\n",
    "\n",
    "sat_score_new.corr()\n",
    "\n",
    "#The verbal and math score has negative correlation with rate. However, math and verbal score have positive correlation. \n"
   ]
  },
  {
   "cell_type": "markdown",
   "metadata": {},
   "source": [
    "<img src=\"http://imgur.com/l5NasQj.png\" style=\"float: left; margin: 25px 15px 0px 0px; height: 25px\">\n",
    "\n",
    "### 6.2 Use pandas'  `.describe()` built-in function on your DataFrame\n",
    "\n",
    "Write up what each of the rows returned by the function indicate."
   ]
  },
  {
   "cell_type": "code",
   "execution_count": 39,
   "metadata": {},
   "outputs": [
    {
     "data": {
      "text/html": [
       "<div>\n",
       "<style scoped>\n",
       "    .dataframe tbody tr th:only-of-type {\n",
       "        vertical-align: middle;\n",
       "    }\n",
       "\n",
       "    .dataframe tbody tr th {\n",
       "        vertical-align: top;\n",
       "    }\n",
       "\n",
       "    .dataframe thead th {\n",
       "        text-align: right;\n",
       "    }\n",
       "</style>\n",
       "<table border=\"1\" class=\"dataframe\">\n",
       "  <thead>\n",
       "    <tr style=\"text-align: right;\">\n",
       "      <th></th>\n",
       "      <th>Rate</th>\n",
       "      <th>Verbal</th>\n",
       "      <th>Math</th>\n",
       "    </tr>\n",
       "  </thead>\n",
       "  <tbody>\n",
       "    <tr>\n",
       "      <th>count</th>\n",
       "      <td>52.000000</td>\n",
       "      <td>52.000000</td>\n",
       "      <td>52.000000</td>\n",
       "    </tr>\n",
       "    <tr>\n",
       "      <th>mean</th>\n",
       "      <td>37.153846</td>\n",
       "      <td>532.019231</td>\n",
       "      <td>531.500000</td>\n",
       "    </tr>\n",
       "    <tr>\n",
       "      <th>std</th>\n",
       "      <td>27.301788</td>\n",
       "      <td>33.236225</td>\n",
       "      <td>36.014975</td>\n",
       "    </tr>\n",
       "    <tr>\n",
       "      <th>min</th>\n",
       "      <td>4.000000</td>\n",
       "      <td>482.000000</td>\n",
       "      <td>439.000000</td>\n",
       "    </tr>\n",
       "    <tr>\n",
       "      <th>25%</th>\n",
       "      <td>9.000000</td>\n",
       "      <td>501.000000</td>\n",
       "      <td>504.000000</td>\n",
       "    </tr>\n",
       "    <tr>\n",
       "      <th>50%</th>\n",
       "      <td>33.500000</td>\n",
       "      <td>526.500000</td>\n",
       "      <td>521.000000</td>\n",
       "    </tr>\n",
       "    <tr>\n",
       "      <th>75%</th>\n",
       "      <td>63.500000</td>\n",
       "      <td>562.000000</td>\n",
       "      <td>555.750000</td>\n",
       "    </tr>\n",
       "    <tr>\n",
       "      <th>max</th>\n",
       "      <td>82.000000</td>\n",
       "      <td>593.000000</td>\n",
       "      <td>603.000000</td>\n",
       "    </tr>\n",
       "  </tbody>\n",
       "</table>\n",
       "</div>"
      ],
      "text/plain": [
       "            Rate      Verbal        Math\n",
       "count  52.000000   52.000000   52.000000\n",
       "mean   37.153846  532.019231  531.500000\n",
       "std    27.301788   33.236225   36.014975\n",
       "min     4.000000  482.000000  439.000000\n",
       "25%     9.000000  501.000000  504.000000\n",
       "50%    33.500000  526.500000  521.000000\n",
       "75%    63.500000  562.000000  555.750000\n",
       "max    82.000000  593.000000  603.000000"
      ]
     },
     "execution_count": 39,
     "metadata": {},
     "output_type": "execute_result"
    }
   ],
   "source": [
    "sat_score_new.describe()\n",
    "#The total numbers of data are 52. The mean, standard deviation \n",
    "# and the interquartile range(25,50 and 75 percentile values were given. The std of rate data is very high. \n",
    "# It shows that there are outliers present."
   ]
  },
  {
   "cell_type": "markdown",
   "metadata": {},
   "source": [
    "<img src=\"http://imgur.com/xDpSobf.png\" style=\"float: left; margin: 25px 15px 0px 0px; height: 25px\">\n",
    "\n",
    "### 6.3 Assign and print the _covariance_ matrix for the dataset\n",
    "\n",
    "1. Describe how the covariance matrix is different from the correlation matrix.\n",
    "2. What is the process to convert the covariance into the correlation?\n",
    "3. Why is the correlation matrix preferred to the covariance matrix for examining relationships in your data?"
   ]
  },
  {
   "cell_type": "code",
   "execution_count": 40,
   "metadata": {},
   "outputs": [],
   "source": [
    "# Both of these covariance and correlation  matrix determine the relationship and measures the dependency between the variables.\n",
    "# Although there are some similarities between these two, they are different from each other. \n",
    "\n",
    "# Covariance is a measure of correlation. On the contrary, correlation refers to the scaled form of covariance \n",
    "# and it is dimensionless. \n",
    "# Correlation is considered as the best tool for measuring and expressing the quantitative relationship between two variables. \n",
    "\n",
    "# Correlation is calculated by dividing the covariance by its standard deviation."
   ]
  },
  {
   "cell_type": "code",
   "execution_count": 41,
   "metadata": {},
   "outputs": [
    {
     "data": {
      "text/html": [
       "<div>\n",
       "<style scoped>\n",
       "    .dataframe tbody tr th:only-of-type {\n",
       "        vertical-align: middle;\n",
       "    }\n",
       "\n",
       "    .dataframe tbody tr th {\n",
       "        vertical-align: top;\n",
       "    }\n",
       "\n",
       "    .dataframe thead th {\n",
       "        text-align: right;\n",
       "    }\n",
       "</style>\n",
       "<table border=\"1\" class=\"dataframe\">\n",
       "  <thead>\n",
       "    <tr style=\"text-align: right;\">\n",
       "      <th></th>\n",
       "      <th>Rate</th>\n",
       "      <th>Verbal</th>\n",
       "      <th>Math</th>\n",
       "    </tr>\n",
       "  </thead>\n",
       "  <tbody>\n",
       "    <tr>\n",
       "      <th>Rate</th>\n",
       "      <td>745.387632</td>\n",
       "      <td>-804.355958</td>\n",
       "      <td>-760.803922</td>\n",
       "    </tr>\n",
       "    <tr>\n",
       "      <th>Verbal</th>\n",
       "      <td>-804.355958</td>\n",
       "      <td>1104.646682</td>\n",
       "      <td>1077.147059</td>\n",
       "    </tr>\n",
       "    <tr>\n",
       "      <th>Math</th>\n",
       "      <td>-760.803922</td>\n",
       "      <td>1077.147059</td>\n",
       "      <td>1297.078431</td>\n",
       "    </tr>\n",
       "  </tbody>\n",
       "</table>\n",
       "</div>"
      ],
      "text/plain": [
       "              Rate       Verbal         Math\n",
       "Rate    745.387632  -804.355958  -760.803922\n",
       "Verbal -804.355958  1104.646682  1077.147059\n",
       "Math   -760.803922  1077.147059  1297.078431"
      ]
     },
     "execution_count": 41,
     "metadata": {},
     "output_type": "execute_result"
    }
   ],
   "source": [
    "sat_score_new.cov() # As discussed above covariance is the measure of variation and it is \n",
    "#difficult to find the correlation between variables"
   ]
  },
  {
   "cell_type": "markdown",
   "metadata": {},
   "source": [
    "<img src=\"http://imgur.com/l5NasQj.png\" style=\"float: left; margin: 25px 15px 0px 0px; height: 25px\">\n",
    "\n",
    "## 7. Performing EDA on \"drug use by age\" data.\n",
    "\n",
    "---\n",
    "\n",
    "You will now switch datasets to one with many more variables. This section of the project is more open-ended - use the techniques you practiced above!\n",
    "\n",
    "We'll work with the \"drug-use-by-age.csv\" data, sourced from and described here: https://github.com/fivethirtyeight/data/tree/master/drug-use-by-age.\n",
    "\n",
    "### 7.1\n",
    "\n",
    "Load the data using pandas. Does this data require cleaning? Are variables missing? How will this affect your approach to EDA on the data?"
   ]
  },
  {
   "cell_type": "code",
   "execution_count": 42,
   "metadata": {},
   "outputs": [
    {
     "data": {
      "text/html": [
       "<div>\n",
       "<style scoped>\n",
       "    .dataframe tbody tr th:only-of-type {\n",
       "        vertical-align: middle;\n",
       "    }\n",
       "\n",
       "    .dataframe tbody tr th {\n",
       "        vertical-align: top;\n",
       "    }\n",
       "\n",
       "    .dataframe thead th {\n",
       "        text-align: right;\n",
       "    }\n",
       "</style>\n",
       "<table border=\"1\" class=\"dataframe\">\n",
       "  <thead>\n",
       "    <tr style=\"text-align: right;\">\n",
       "      <th></th>\n",
       "      <th>age</th>\n",
       "      <th>n</th>\n",
       "      <th>alcohol-use</th>\n",
       "      <th>alcohol-frequency</th>\n",
       "      <th>marijuana-use</th>\n",
       "      <th>marijuana-frequency</th>\n",
       "      <th>cocaine-use</th>\n",
       "      <th>cocaine-frequency</th>\n",
       "      <th>crack-use</th>\n",
       "      <th>crack-frequency</th>\n",
       "      <th>...</th>\n",
       "      <th>oxycontin-use</th>\n",
       "      <th>oxycontin-frequency</th>\n",
       "      <th>tranquilizer-use</th>\n",
       "      <th>tranquilizer-frequency</th>\n",
       "      <th>stimulant-use</th>\n",
       "      <th>stimulant-frequency</th>\n",
       "      <th>meth-use</th>\n",
       "      <th>meth-frequency</th>\n",
       "      <th>sedative-use</th>\n",
       "      <th>sedative-frequency</th>\n",
       "    </tr>\n",
       "  </thead>\n",
       "  <tbody>\n",
       "    <tr>\n",
       "      <th>0</th>\n",
       "      <td>12</td>\n",
       "      <td>2798</td>\n",
       "      <td>3.9</td>\n",
       "      <td>3.0</td>\n",
       "      <td>1.1</td>\n",
       "      <td>4.0</td>\n",
       "      <td>0.1</td>\n",
       "      <td>5.0</td>\n",
       "      <td>0.0</td>\n",
       "      <td>-</td>\n",
       "      <td>...</td>\n",
       "      <td>0.1</td>\n",
       "      <td>24.5</td>\n",
       "      <td>0.2</td>\n",
       "      <td>52.0</td>\n",
       "      <td>0.2</td>\n",
       "      <td>2.0</td>\n",
       "      <td>0.0</td>\n",
       "      <td>-</td>\n",
       "      <td>0.2</td>\n",
       "      <td>13.0</td>\n",
       "    </tr>\n",
       "    <tr>\n",
       "      <th>1</th>\n",
       "      <td>13</td>\n",
       "      <td>2757</td>\n",
       "      <td>8.5</td>\n",
       "      <td>6.0</td>\n",
       "      <td>3.4</td>\n",
       "      <td>15.0</td>\n",
       "      <td>0.1</td>\n",
       "      <td>1.0</td>\n",
       "      <td>0.0</td>\n",
       "      <td>3.0</td>\n",
       "      <td>...</td>\n",
       "      <td>0.1</td>\n",
       "      <td>41.0</td>\n",
       "      <td>0.3</td>\n",
       "      <td>25.5</td>\n",
       "      <td>0.3</td>\n",
       "      <td>4.0</td>\n",
       "      <td>0.1</td>\n",
       "      <td>5.0</td>\n",
       "      <td>0.1</td>\n",
       "      <td>19.0</td>\n",
       "    </tr>\n",
       "    <tr>\n",
       "      <th>2</th>\n",
       "      <td>14</td>\n",
       "      <td>2792</td>\n",
       "      <td>18.1</td>\n",
       "      <td>5.0</td>\n",
       "      <td>8.7</td>\n",
       "      <td>24.0</td>\n",
       "      <td>0.1</td>\n",
       "      <td>5.5</td>\n",
       "      <td>0.0</td>\n",
       "      <td>-</td>\n",
       "      <td>...</td>\n",
       "      <td>0.4</td>\n",
       "      <td>4.5</td>\n",
       "      <td>0.9</td>\n",
       "      <td>5.0</td>\n",
       "      <td>0.8</td>\n",
       "      <td>12.0</td>\n",
       "      <td>0.1</td>\n",
       "      <td>24.0</td>\n",
       "      <td>0.2</td>\n",
       "      <td>16.5</td>\n",
       "    </tr>\n",
       "    <tr>\n",
       "      <th>3</th>\n",
       "      <td>15</td>\n",
       "      <td>2956</td>\n",
       "      <td>29.2</td>\n",
       "      <td>6.0</td>\n",
       "      <td>14.5</td>\n",
       "      <td>25.0</td>\n",
       "      <td>0.5</td>\n",
       "      <td>4.0</td>\n",
       "      <td>0.1</td>\n",
       "      <td>9.5</td>\n",
       "      <td>...</td>\n",
       "      <td>0.8</td>\n",
       "      <td>3.0</td>\n",
       "      <td>2.0</td>\n",
       "      <td>4.5</td>\n",
       "      <td>1.5</td>\n",
       "      <td>6.0</td>\n",
       "      <td>0.3</td>\n",
       "      <td>10.5</td>\n",
       "      <td>0.4</td>\n",
       "      <td>30.0</td>\n",
       "    </tr>\n",
       "    <tr>\n",
       "      <th>4</th>\n",
       "      <td>16</td>\n",
       "      <td>3058</td>\n",
       "      <td>40.1</td>\n",
       "      <td>10.0</td>\n",
       "      <td>22.5</td>\n",
       "      <td>30.0</td>\n",
       "      <td>1.0</td>\n",
       "      <td>7.0</td>\n",
       "      <td>0.0</td>\n",
       "      <td>1.0</td>\n",
       "      <td>...</td>\n",
       "      <td>1.1</td>\n",
       "      <td>4.0</td>\n",
       "      <td>2.4</td>\n",
       "      <td>11.0</td>\n",
       "      <td>1.8</td>\n",
       "      <td>9.5</td>\n",
       "      <td>0.3</td>\n",
       "      <td>36.0</td>\n",
       "      <td>0.2</td>\n",
       "      <td>3.0</td>\n",
       "    </tr>\n",
       "  </tbody>\n",
       "</table>\n",
       "<p>5 rows × 28 columns</p>\n",
       "</div>"
      ],
      "text/plain": [
       "  age     n  alcohol-use  alcohol-frequency  marijuana-use  \\\n",
       "0  12  2798          3.9                3.0            1.1   \n",
       "1  13  2757          8.5                6.0            3.4   \n",
       "2  14  2792         18.1                5.0            8.7   \n",
       "3  15  2956         29.2                6.0           14.5   \n",
       "4  16  3058         40.1               10.0           22.5   \n",
       "\n",
       "   marijuana-frequency  cocaine-use cocaine-frequency  crack-use  \\\n",
       "0                  4.0          0.1               5.0        0.0   \n",
       "1                 15.0          0.1               1.0        0.0   \n",
       "2                 24.0          0.1               5.5        0.0   \n",
       "3                 25.0          0.5               4.0        0.1   \n",
       "4                 30.0          1.0               7.0        0.0   \n",
       "\n",
       "  crack-frequency        ...          oxycontin-use oxycontin-frequency  \\\n",
       "0               -        ...                    0.1                24.5   \n",
       "1             3.0        ...                    0.1                41.0   \n",
       "2               -        ...                    0.4                 4.5   \n",
       "3             9.5        ...                    0.8                 3.0   \n",
       "4             1.0        ...                    1.1                 4.0   \n",
       "\n",
       "   tranquilizer-use  tranquilizer-frequency  stimulant-use  \\\n",
       "0               0.2                    52.0            0.2   \n",
       "1               0.3                    25.5            0.3   \n",
       "2               0.9                     5.0            0.8   \n",
       "3               2.0                     4.5            1.5   \n",
       "4               2.4                    11.0            1.8   \n",
       "\n",
       "  stimulant-frequency  meth-use  meth-frequency  sedative-use  \\\n",
       "0                 2.0       0.0               -           0.2   \n",
       "1                 4.0       0.1             5.0           0.1   \n",
       "2                12.0       0.1            24.0           0.2   \n",
       "3                 6.0       0.3            10.5           0.4   \n",
       "4                 9.5       0.3            36.0           0.2   \n",
       "\n",
       "  sedative-frequency  \n",
       "0               13.0  \n",
       "1               19.0  \n",
       "2               16.5  \n",
       "3               30.0  \n",
       "4                3.0  \n",
       "\n",
       "[5 rows x 28 columns]"
      ]
     },
     "execution_count": 42,
     "metadata": {},
     "output_type": "execute_result"
    }
   ],
   "source": [
    "#The data is loaded using pandas\n",
    "drug=pd.read_csv('drug-use-by-age.csv')\n",
    "\n",
    "drug.head()"
   ]
  },
  {
   "cell_type": "code",
   "execution_count": 43,
   "metadata": {},
   "outputs": [
    {
     "data": {
      "text/plain": [
       "(17, 28)"
      ]
     },
     "execution_count": 43,
     "metadata": {},
     "output_type": "execute_result"
    }
   ],
   "source": [
    "#First the shape of the data is studied\n",
    "drug.shape #it shows that data has 17 rows and 28 columns"
   ]
  },
  {
   "cell_type": "code",
   "execution_count": 44,
   "metadata": {},
   "outputs": [],
   "source": [
    "drug_n=drug.drop('age',axis=1)"
   ]
  },
  {
   "cell_type": "code",
   "execution_count": 45,
   "metadata": {},
   "outputs": [
    {
     "data": {
      "text/html": [
       "<div>\n",
       "<style scoped>\n",
       "    .dataframe tbody tr th:only-of-type {\n",
       "        vertical-align: middle;\n",
       "    }\n",
       "\n",
       "    .dataframe tbody tr th {\n",
       "        vertical-align: top;\n",
       "    }\n",
       "\n",
       "    .dataframe thead th {\n",
       "        text-align: right;\n",
       "    }\n",
       "</style>\n",
       "<table border=\"1\" class=\"dataframe\">\n",
       "  <thead>\n",
       "    <tr style=\"text-align: right;\">\n",
       "      <th></th>\n",
       "      <th>n</th>\n",
       "      <th>alcohol-use</th>\n",
       "      <th>alcohol-frequency</th>\n",
       "      <th>marijuana-use</th>\n",
       "      <th>marijuana-frequency</th>\n",
       "      <th>cocaine-use</th>\n",
       "      <th>cocaine-frequency</th>\n",
       "      <th>crack-use</th>\n",
       "      <th>crack-frequency</th>\n",
       "      <th>heroin-use</th>\n",
       "      <th>...</th>\n",
       "      <th>oxycontin-use</th>\n",
       "      <th>oxycontin-frequency</th>\n",
       "      <th>tranquilizer-use</th>\n",
       "      <th>tranquilizer-frequency</th>\n",
       "      <th>stimulant-use</th>\n",
       "      <th>stimulant-frequency</th>\n",
       "      <th>meth-use</th>\n",
       "      <th>meth-frequency</th>\n",
       "      <th>sedative-use</th>\n",
       "      <th>sedative-frequency</th>\n",
       "    </tr>\n",
       "  </thead>\n",
       "  <tbody>\n",
       "    <tr>\n",
       "      <th>0</th>\n",
       "      <td>2798</td>\n",
       "      <td>3.9</td>\n",
       "      <td>3.0</td>\n",
       "      <td>1.1</td>\n",
       "      <td>4.0</td>\n",
       "      <td>0.1</td>\n",
       "      <td>5.0</td>\n",
       "      <td>0.0</td>\n",
       "      <td>-</td>\n",
       "      <td>0.1</td>\n",
       "      <td>...</td>\n",
       "      <td>0.1</td>\n",
       "      <td>24.5</td>\n",
       "      <td>0.2</td>\n",
       "      <td>52.0</td>\n",
       "      <td>0.2</td>\n",
       "      <td>2.0</td>\n",
       "      <td>0.0</td>\n",
       "      <td>-</td>\n",
       "      <td>0.2</td>\n",
       "      <td>13.0</td>\n",
       "    </tr>\n",
       "    <tr>\n",
       "      <th>1</th>\n",
       "      <td>2757</td>\n",
       "      <td>8.5</td>\n",
       "      <td>6.0</td>\n",
       "      <td>3.4</td>\n",
       "      <td>15.0</td>\n",
       "      <td>0.1</td>\n",
       "      <td>1.0</td>\n",
       "      <td>0.0</td>\n",
       "      <td>3.0</td>\n",
       "      <td>0.0</td>\n",
       "      <td>...</td>\n",
       "      <td>0.1</td>\n",
       "      <td>41.0</td>\n",
       "      <td>0.3</td>\n",
       "      <td>25.5</td>\n",
       "      <td>0.3</td>\n",
       "      <td>4.0</td>\n",
       "      <td>0.1</td>\n",
       "      <td>5.0</td>\n",
       "      <td>0.1</td>\n",
       "      <td>19.0</td>\n",
       "    </tr>\n",
       "    <tr>\n",
       "      <th>2</th>\n",
       "      <td>2792</td>\n",
       "      <td>18.1</td>\n",
       "      <td>5.0</td>\n",
       "      <td>8.7</td>\n",
       "      <td>24.0</td>\n",
       "      <td>0.1</td>\n",
       "      <td>5.5</td>\n",
       "      <td>0.0</td>\n",
       "      <td>-</td>\n",
       "      <td>0.1</td>\n",
       "      <td>...</td>\n",
       "      <td>0.4</td>\n",
       "      <td>4.5</td>\n",
       "      <td>0.9</td>\n",
       "      <td>5.0</td>\n",
       "      <td>0.8</td>\n",
       "      <td>12.0</td>\n",
       "      <td>0.1</td>\n",
       "      <td>24.0</td>\n",
       "      <td>0.2</td>\n",
       "      <td>16.5</td>\n",
       "    </tr>\n",
       "    <tr>\n",
       "      <th>3</th>\n",
       "      <td>2956</td>\n",
       "      <td>29.2</td>\n",
       "      <td>6.0</td>\n",
       "      <td>14.5</td>\n",
       "      <td>25.0</td>\n",
       "      <td>0.5</td>\n",
       "      <td>4.0</td>\n",
       "      <td>0.1</td>\n",
       "      <td>9.5</td>\n",
       "      <td>0.2</td>\n",
       "      <td>...</td>\n",
       "      <td>0.8</td>\n",
       "      <td>3.0</td>\n",
       "      <td>2.0</td>\n",
       "      <td>4.5</td>\n",
       "      <td>1.5</td>\n",
       "      <td>6.0</td>\n",
       "      <td>0.3</td>\n",
       "      <td>10.5</td>\n",
       "      <td>0.4</td>\n",
       "      <td>30.0</td>\n",
       "    </tr>\n",
       "    <tr>\n",
       "      <th>4</th>\n",
       "      <td>3058</td>\n",
       "      <td>40.1</td>\n",
       "      <td>10.0</td>\n",
       "      <td>22.5</td>\n",
       "      <td>30.0</td>\n",
       "      <td>1.0</td>\n",
       "      <td>7.0</td>\n",
       "      <td>0.0</td>\n",
       "      <td>1.0</td>\n",
       "      <td>0.1</td>\n",
       "      <td>...</td>\n",
       "      <td>1.1</td>\n",
       "      <td>4.0</td>\n",
       "      <td>2.4</td>\n",
       "      <td>11.0</td>\n",
       "      <td>1.8</td>\n",
       "      <td>9.5</td>\n",
       "      <td>0.3</td>\n",
       "      <td>36.0</td>\n",
       "      <td>0.2</td>\n",
       "      <td>3.0</td>\n",
       "    </tr>\n",
       "  </tbody>\n",
       "</table>\n",
       "<p>5 rows × 27 columns</p>\n",
       "</div>"
      ],
      "text/plain": [
       "      n  alcohol-use  alcohol-frequency  marijuana-use  marijuana-frequency  \\\n",
       "0  2798          3.9                3.0            1.1                  4.0   \n",
       "1  2757          8.5                6.0            3.4                 15.0   \n",
       "2  2792         18.1                5.0            8.7                 24.0   \n",
       "3  2956         29.2                6.0           14.5                 25.0   \n",
       "4  3058         40.1               10.0           22.5                 30.0   \n",
       "\n",
       "   cocaine-use cocaine-frequency  crack-use crack-frequency  heroin-use  \\\n",
       "0          0.1               5.0        0.0               -         0.1   \n",
       "1          0.1               1.0        0.0             3.0         0.0   \n",
       "2          0.1               5.5        0.0               -         0.1   \n",
       "3          0.5               4.0        0.1             9.5         0.2   \n",
       "4          1.0               7.0        0.0             1.0         0.1   \n",
       "\n",
       "          ...         oxycontin-use  oxycontin-frequency  tranquilizer-use  \\\n",
       "0         ...                   0.1                 24.5               0.2   \n",
       "1         ...                   0.1                 41.0               0.3   \n",
       "2         ...                   0.4                  4.5               0.9   \n",
       "3         ...                   0.8                  3.0               2.0   \n",
       "4         ...                   1.1                  4.0               2.4   \n",
       "\n",
       "   tranquilizer-frequency stimulant-use  stimulant-frequency  meth-use  \\\n",
       "0                    52.0           0.2                  2.0       0.0   \n",
       "1                    25.5           0.3                  4.0       0.1   \n",
       "2                     5.0           0.8                 12.0       0.1   \n",
       "3                     4.5           1.5                  6.0       0.3   \n",
       "4                    11.0           1.8                  9.5       0.3   \n",
       "\n",
       "   meth-frequency sedative-use  sedative-frequency  \n",
       "0               -          0.2                13.0  \n",
       "1             5.0          0.1                19.0  \n",
       "2            24.0          0.2                16.5  \n",
       "3            10.5          0.4                30.0  \n",
       "4            36.0          0.2                 3.0  \n",
       "\n",
       "[5 rows x 27 columns]"
      ]
     },
     "execution_count": 45,
     "metadata": {},
     "output_type": "execute_result"
    }
   ],
   "source": [
    "drug_n.head()"
   ]
  },
  {
   "cell_type": "code",
   "execution_count": 46,
   "metadata": {
    "scrolled": true
   },
   "outputs": [
    {
     "data": {
      "text/plain": [
       "n                            int64\n",
       "alcohol-use                float64\n",
       "alcohol-frequency          float64\n",
       "marijuana-use              float64\n",
       "marijuana-frequency        float64\n",
       "cocaine-use                float64\n",
       "cocaine-frequency           object\n",
       "crack-use                  float64\n",
       "crack-frequency             object\n",
       "heroin-use                 float64\n",
       "heroin-frequency            object\n",
       "hallucinogen-use           float64\n",
       "hallucinogen-frequency     float64\n",
       "inhalant-use               float64\n",
       "inhalant-frequency          object\n",
       "pain-releiver-use          float64\n",
       "pain-releiver-frequency    float64\n",
       "oxycontin-use              float64\n",
       "oxycontin-frequency         object\n",
       "tranquilizer-use           float64\n",
       "tranquilizer-frequency     float64\n",
       "stimulant-use              float64\n",
       "stimulant-frequency        float64\n",
       "meth-use                   float64\n",
       "meth-frequency              object\n",
       "sedative-use               float64\n",
       "sedative-frequency         float64\n",
       "dtype: object"
      ]
     },
     "execution_count": 46,
     "metadata": {},
     "output_type": "execute_result"
    }
   ],
   "source": [
    "#buildin function .dtypes is used to understand the type of the object. \n",
    "#It shows that age,cocaine-frequency,crack-frequency,heroin-frequency,inhalant-frequency,\n",
    "#oxycontin-frequency,meth-frequency data are object type while they are to be float type. So need to clean those data. \n",
    "\n",
    "drug_n.dtypes "
   ]
  },
  {
   "cell_type": "code",
   "execution_count": 47,
   "metadata": {},
   "outputs": [],
   "source": [
    "cols = drug_n.columns[drug_n.dtypes.eq('object')]\n",
    "\n",
    "drug_n[cols] = drug_n[cols].apply(pd.to_numeric, errors='coerce')"
   ]
  },
  {
   "cell_type": "code",
   "execution_count": 48,
   "metadata": {},
   "outputs": [
    {
     "name": "stdout",
     "output_type": "stream",
     "text": [
      "<class 'pandas.core.frame.DataFrame'>\n",
      "RangeIndex: 17 entries, 0 to 16\n",
      "Data columns (total 27 columns):\n",
      "n                          17 non-null int64\n",
      "alcohol-use                17 non-null float64\n",
      "alcohol-frequency          17 non-null float64\n",
      "marijuana-use              17 non-null float64\n",
      "marijuana-frequency        17 non-null float64\n",
      "cocaine-use                17 non-null float64\n",
      "cocaine-frequency          16 non-null float64\n",
      "crack-use                  17 non-null float64\n",
      "crack-frequency            14 non-null float64\n",
      "heroin-use                 17 non-null float64\n",
      "heroin-frequency           16 non-null float64\n",
      "hallucinogen-use           17 non-null float64\n",
      "hallucinogen-frequency     17 non-null float64\n",
      "inhalant-use               17 non-null float64\n",
      "inhalant-frequency         16 non-null float64\n",
      "pain-releiver-use          17 non-null float64\n",
      "pain-releiver-frequency    17 non-null float64\n",
      "oxycontin-use              17 non-null float64\n",
      "oxycontin-frequency        16 non-null float64\n",
      "tranquilizer-use           17 non-null float64\n",
      "tranquilizer-frequency     17 non-null float64\n",
      "stimulant-use              17 non-null float64\n",
      "stimulant-frequency        17 non-null float64\n",
      "meth-use                   17 non-null float64\n",
      "meth-frequency             15 non-null float64\n",
      "sedative-use               17 non-null float64\n",
      "sedative-frequency         17 non-null float64\n",
      "dtypes: float64(26), int64(1)\n",
      "memory usage: 3.7 KB\n"
     ]
    }
   ],
   "source": [
    "drug_n.info() # we could find that all the object types were converted to float"
   ]
  },
  {
   "cell_type": "code",
   "execution_count": 49,
   "metadata": {
    "scrolled": true
   },
   "outputs": [],
   "source": [
    "#the names of the columns were changed\n",
    "new_names=['n','alcohol_u','alcohol_f','marijuana_u','marijuana_f', 'cocaine_u', 'cocaine_f', 'crack_u','crack_f', \n",
    "'heroin_u', 'heroin_f','hallucinogen_u','hallucinogen_f', 'inhalant_u', 'inhalant_f', 'pain-releiver_u', 'pain-releiver_f',\n",
    "'oxycontin_u','oxycontin_f', 'tranquilizer_u', 'tranquilizer_f', 'stimulant_u', 'stimulant_f', 'meth_u', 'meth_f', 'sedative_u', 'sedative_f']\n",
    "drug_n.columns=new_names"
   ]
  },
  {
   "cell_type": "code",
   "execution_count": 50,
   "metadata": {},
   "outputs": [
    {
     "data": {
      "text/html": [
       "<div>\n",
       "<style scoped>\n",
       "    .dataframe tbody tr th:only-of-type {\n",
       "        vertical-align: middle;\n",
       "    }\n",
       "\n",
       "    .dataframe tbody tr th {\n",
       "        vertical-align: top;\n",
       "    }\n",
       "\n",
       "    .dataframe thead th {\n",
       "        text-align: right;\n",
       "    }\n",
       "</style>\n",
       "<table border=\"1\" class=\"dataframe\">\n",
       "  <thead>\n",
       "    <tr style=\"text-align: right;\">\n",
       "      <th></th>\n",
       "      <th>n</th>\n",
       "      <th>alcohol_u</th>\n",
       "      <th>alcohol_f</th>\n",
       "      <th>marijuana_u</th>\n",
       "      <th>marijuana_f</th>\n",
       "      <th>cocaine_u</th>\n",
       "      <th>cocaine_f</th>\n",
       "      <th>crack_u</th>\n",
       "      <th>crack_f</th>\n",
       "      <th>heroin_u</th>\n",
       "      <th>heroin_f</th>\n",
       "      <th>hallucinogen_u</th>\n",
       "      <th>hallucinogen_f</th>\n",
       "      <th>inhalant_u</th>\n",
       "      <th>inhalant_f</th>\n",
       "      <th>pain-releiver_u</th>\n",
       "      <th>pain-releiver_f</th>\n",
       "      <th>oxycontin_u</th>\n",
       "      <th>oxycontin_f</th>\n",
       "      <th>tranquilizer_u</th>\n",
       "      <th>tranquilizer_f</th>\n",
       "      <th>stimulant_u</th>\n",
       "      <th>stimulant_f</th>\n",
       "      <th>meth_u</th>\n",
       "      <th>meth_f</th>\n",
       "      <th>sedative_u</th>\n",
       "      <th>sedative_f</th>\n",
       "    </tr>\n",
       "  </thead>\n",
       "  <tbody>\n",
       "    <tr>\n",
       "      <th>0</th>\n",
       "      <td>2798</td>\n",
       "      <td>3.9</td>\n",
       "      <td>3.0</td>\n",
       "      <td>1.1</td>\n",
       "      <td>4.0</td>\n",
       "      <td>0.1</td>\n",
       "      <td>5.0</td>\n",
       "      <td>0.0</td>\n",
       "      <td>NaN</td>\n",
       "      <td>0.1</td>\n",
       "      <td>35.5</td>\n",
       "      <td>0.2</td>\n",
       "      <td>52.0</td>\n",
       "      <td>1.6</td>\n",
       "      <td>19.0</td>\n",
       "      <td>2.0</td>\n",
       "      <td>36.0</td>\n",
       "      <td>0.1</td>\n",
       "      <td>24.5</td>\n",
       "      <td>0.2</td>\n",
       "      <td>52.0</td>\n",
       "      <td>0.2</td>\n",
       "      <td>2.0</td>\n",
       "      <td>0.0</td>\n",
       "      <td>NaN</td>\n",
       "      <td>0.2</td>\n",
       "      <td>13.0</td>\n",
       "    </tr>\n",
       "    <tr>\n",
       "      <th>1</th>\n",
       "      <td>2757</td>\n",
       "      <td>8.5</td>\n",
       "      <td>6.0</td>\n",
       "      <td>3.4</td>\n",
       "      <td>15.0</td>\n",
       "      <td>0.1</td>\n",
       "      <td>1.0</td>\n",
       "      <td>0.0</td>\n",
       "      <td>3.0</td>\n",
       "      <td>0.0</td>\n",
       "      <td>NaN</td>\n",
       "      <td>0.6</td>\n",
       "      <td>6.0</td>\n",
       "      <td>2.5</td>\n",
       "      <td>12.0</td>\n",
       "      <td>2.4</td>\n",
       "      <td>14.0</td>\n",
       "      <td>0.1</td>\n",
       "      <td>41.0</td>\n",
       "      <td>0.3</td>\n",
       "      <td>25.5</td>\n",
       "      <td>0.3</td>\n",
       "      <td>4.0</td>\n",
       "      <td>0.1</td>\n",
       "      <td>5.0</td>\n",
       "      <td>0.1</td>\n",
       "      <td>19.0</td>\n",
       "    </tr>\n",
       "    <tr>\n",
       "      <th>2</th>\n",
       "      <td>2792</td>\n",
       "      <td>18.1</td>\n",
       "      <td>5.0</td>\n",
       "      <td>8.7</td>\n",
       "      <td>24.0</td>\n",
       "      <td>0.1</td>\n",
       "      <td>5.5</td>\n",
       "      <td>0.0</td>\n",
       "      <td>NaN</td>\n",
       "      <td>0.1</td>\n",
       "      <td>2.0</td>\n",
       "      <td>1.6</td>\n",
       "      <td>3.0</td>\n",
       "      <td>2.6</td>\n",
       "      <td>5.0</td>\n",
       "      <td>3.9</td>\n",
       "      <td>12.0</td>\n",
       "      <td>0.4</td>\n",
       "      <td>4.5</td>\n",
       "      <td>0.9</td>\n",
       "      <td>5.0</td>\n",
       "      <td>0.8</td>\n",
       "      <td>12.0</td>\n",
       "      <td>0.1</td>\n",
       "      <td>24.0</td>\n",
       "      <td>0.2</td>\n",
       "      <td>16.5</td>\n",
       "    </tr>\n",
       "    <tr>\n",
       "      <th>3</th>\n",
       "      <td>2956</td>\n",
       "      <td>29.2</td>\n",
       "      <td>6.0</td>\n",
       "      <td>14.5</td>\n",
       "      <td>25.0</td>\n",
       "      <td>0.5</td>\n",
       "      <td>4.0</td>\n",
       "      <td>0.1</td>\n",
       "      <td>9.5</td>\n",
       "      <td>0.2</td>\n",
       "      <td>1.0</td>\n",
       "      <td>2.1</td>\n",
       "      <td>4.0</td>\n",
       "      <td>2.5</td>\n",
       "      <td>5.5</td>\n",
       "      <td>5.5</td>\n",
       "      <td>10.0</td>\n",
       "      <td>0.8</td>\n",
       "      <td>3.0</td>\n",
       "      <td>2.0</td>\n",
       "      <td>4.5</td>\n",
       "      <td>1.5</td>\n",
       "      <td>6.0</td>\n",
       "      <td>0.3</td>\n",
       "      <td>10.5</td>\n",
       "      <td>0.4</td>\n",
       "      <td>30.0</td>\n",
       "    </tr>\n",
       "    <tr>\n",
       "      <th>4</th>\n",
       "      <td>3058</td>\n",
       "      <td>40.1</td>\n",
       "      <td>10.0</td>\n",
       "      <td>22.5</td>\n",
       "      <td>30.0</td>\n",
       "      <td>1.0</td>\n",
       "      <td>7.0</td>\n",
       "      <td>0.0</td>\n",
       "      <td>1.0</td>\n",
       "      <td>0.1</td>\n",
       "      <td>66.5</td>\n",
       "      <td>3.4</td>\n",
       "      <td>3.0</td>\n",
       "      <td>3.0</td>\n",
       "      <td>3.0</td>\n",
       "      <td>6.2</td>\n",
       "      <td>7.0</td>\n",
       "      <td>1.1</td>\n",
       "      <td>4.0</td>\n",
       "      <td>2.4</td>\n",
       "      <td>11.0</td>\n",
       "      <td>1.8</td>\n",
       "      <td>9.5</td>\n",
       "      <td>0.3</td>\n",
       "      <td>36.0</td>\n",
       "      <td>0.2</td>\n",
       "      <td>3.0</td>\n",
       "    </tr>\n",
       "  </tbody>\n",
       "</table>\n",
       "</div>"
      ],
      "text/plain": [
       "      n  alcohol_u  alcohol_f  marijuana_u  marijuana_f  cocaine_u  cocaine_f  \\\n",
       "0  2798        3.9        3.0          1.1          4.0        0.1        5.0   \n",
       "1  2757        8.5        6.0          3.4         15.0        0.1        1.0   \n",
       "2  2792       18.1        5.0          8.7         24.0        0.1        5.5   \n",
       "3  2956       29.2        6.0         14.5         25.0        0.5        4.0   \n",
       "4  3058       40.1       10.0         22.5         30.0        1.0        7.0   \n",
       "\n",
       "   crack_u  crack_f  heroin_u  heroin_f  hallucinogen_u  hallucinogen_f  \\\n",
       "0      0.0      NaN       0.1      35.5             0.2            52.0   \n",
       "1      0.0      3.0       0.0       NaN             0.6             6.0   \n",
       "2      0.0      NaN       0.1       2.0             1.6             3.0   \n",
       "3      0.1      9.5       0.2       1.0             2.1             4.0   \n",
       "4      0.0      1.0       0.1      66.5             3.4             3.0   \n",
       "\n",
       "   inhalant_u  inhalant_f  pain-releiver_u  pain-releiver_f  oxycontin_u  \\\n",
       "0         1.6        19.0              2.0             36.0          0.1   \n",
       "1         2.5        12.0              2.4             14.0          0.1   \n",
       "2         2.6         5.0              3.9             12.0          0.4   \n",
       "3         2.5         5.5              5.5             10.0          0.8   \n",
       "4         3.0         3.0              6.2              7.0          1.1   \n",
       "\n",
       "   oxycontin_f  tranquilizer_u  tranquilizer_f  stimulant_u  stimulant_f  \\\n",
       "0         24.5             0.2            52.0          0.2          2.0   \n",
       "1         41.0             0.3            25.5          0.3          4.0   \n",
       "2          4.5             0.9             5.0          0.8         12.0   \n",
       "3          3.0             2.0             4.5          1.5          6.0   \n",
       "4          4.0             2.4            11.0          1.8          9.5   \n",
       "\n",
       "   meth_u  meth_f  sedative_u  sedative_f  \n",
       "0     0.0     NaN         0.2        13.0  \n",
       "1     0.1     5.0         0.1        19.0  \n",
       "2     0.1    24.0         0.2        16.5  \n",
       "3     0.3    10.5         0.4        30.0  \n",
       "4     0.3    36.0         0.2         3.0  "
      ]
     },
     "execution_count": 50,
     "metadata": {},
     "output_type": "execute_result"
    }
   ],
   "source": [
    "pd.set_option('display.max_rows', 500)\n",
    "pd.set_option('display.max_columns', 500)\n",
    "drug_n.head()"
   ]
  },
  {
   "cell_type": "code",
   "execution_count": 51,
   "metadata": {},
   "outputs": [],
   "source": [
    "#As the percentage of the people using drugh is given. \n",
    "# These values were converted to number of people by multipling with the corresponding n value. \n",
    "drug_n['alcohol_u'] = drug_n['n']*drug_n['alcohol_u']*0.01\n",
    "drug_n['marijuana_u'] = drug_n['n']*drug_n['marijuana_u']*0.01\n",
    "drug_n['crack_u']=drug_n['n']*drug_n['crack_u']*0.01\n",
    "drug_n['heroin_u']=drug_n['n']*drug_n['heroin_u']*0.01\n",
    "drug_n['hallucinogen_u']=drug_n['n']*drug_n['hallucinogen_u']*0.01\n",
    "drug_n['inhalant_u']=drug_n['n']*drug_n['inhalant_u']*0.01\n",
    "drug_n['pain-releiver_u']=drug_n['n']*drug_n['pain-releiver_u']*0.01\n",
    "drug_n['oxycontin_u']=drug_n['n']*drug_n['oxycontin_u']*0.01\n",
    "drug_n['tranquilizer_u']=drug_n['n']*drug_n['tranquilizer_u']*0.01\n",
    "drug_n['stimulant_u']=drug_n['n']*drug_n['stimulant_u']*0.01\n",
    "drug_n['meth_u']=drug_n['n']*drug_n['meth_u']*0.01\n",
    "drug_n['sedative_u']=drug_n['n']*drug_n['sedative_u']*0.01\n",
    "drug_n['cocaine_u']=drug_n['n']*drug_n['cocaine_u']*0.01\n",
    "\n"
   ]
  },
  {
   "cell_type": "code",
   "execution_count": 52,
   "metadata": {},
   "outputs": [],
   "source": [
    "drug_n.insert(0,column='age', value=drug['age'])"
   ]
  },
  {
   "cell_type": "code",
   "execution_count": 53,
   "metadata": {
    "scrolled": true
   },
   "outputs": [
    {
     "data": {
      "text/html": [
       "<div>\n",
       "<style scoped>\n",
       "    .dataframe tbody tr th:only-of-type {\n",
       "        vertical-align: middle;\n",
       "    }\n",
       "\n",
       "    .dataframe tbody tr th {\n",
       "        vertical-align: top;\n",
       "    }\n",
       "\n",
       "    .dataframe thead th {\n",
       "        text-align: right;\n",
       "    }\n",
       "</style>\n",
       "<table border=\"1\" class=\"dataframe\">\n",
       "  <thead>\n",
       "    <tr style=\"text-align: right;\">\n",
       "      <th></th>\n",
       "      <th>age</th>\n",
       "      <th>n</th>\n",
       "      <th>alcohol_u</th>\n",
       "      <th>alcohol_f</th>\n",
       "      <th>marijuana_u</th>\n",
       "      <th>marijuana_f</th>\n",
       "      <th>cocaine_u</th>\n",
       "      <th>cocaine_f</th>\n",
       "      <th>crack_u</th>\n",
       "      <th>crack_f</th>\n",
       "      <th>heroin_u</th>\n",
       "      <th>heroin_f</th>\n",
       "      <th>hallucinogen_u</th>\n",
       "      <th>hallucinogen_f</th>\n",
       "      <th>inhalant_u</th>\n",
       "      <th>inhalant_f</th>\n",
       "      <th>pain-releiver_u</th>\n",
       "      <th>pain-releiver_f</th>\n",
       "      <th>oxycontin_u</th>\n",
       "      <th>oxycontin_f</th>\n",
       "      <th>tranquilizer_u</th>\n",
       "      <th>tranquilizer_f</th>\n",
       "      <th>stimulant_u</th>\n",
       "      <th>stimulant_f</th>\n",
       "      <th>meth_u</th>\n",
       "      <th>meth_f</th>\n",
       "      <th>sedative_u</th>\n",
       "      <th>sedative_f</th>\n",
       "    </tr>\n",
       "  </thead>\n",
       "  <tbody>\n",
       "    <tr>\n",
       "      <th>0</th>\n",
       "      <td>12</td>\n",
       "      <td>2798</td>\n",
       "      <td>109.122</td>\n",
       "      <td>3.0</td>\n",
       "      <td>30.778</td>\n",
       "      <td>4.0</td>\n",
       "      <td>2.798</td>\n",
       "      <td>5.0</td>\n",
       "      <td>0.000</td>\n",
       "      <td>NaN</td>\n",
       "      <td>2.798</td>\n",
       "      <td>35.5</td>\n",
       "      <td>5.596</td>\n",
       "      <td>52.0</td>\n",
       "      <td>44.768</td>\n",
       "      <td>19.0</td>\n",
       "      <td>55.960</td>\n",
       "      <td>36.0</td>\n",
       "      <td>2.798</td>\n",
       "      <td>24.5</td>\n",
       "      <td>5.596</td>\n",
       "      <td>52.0</td>\n",
       "      <td>5.596</td>\n",
       "      <td>2.0</td>\n",
       "      <td>0.000</td>\n",
       "      <td>NaN</td>\n",
       "      <td>5.596</td>\n",
       "      <td>13.0</td>\n",
       "    </tr>\n",
       "    <tr>\n",
       "      <th>1</th>\n",
       "      <td>13</td>\n",
       "      <td>2757</td>\n",
       "      <td>234.345</td>\n",
       "      <td>6.0</td>\n",
       "      <td>93.738</td>\n",
       "      <td>15.0</td>\n",
       "      <td>2.757</td>\n",
       "      <td>1.0</td>\n",
       "      <td>0.000</td>\n",
       "      <td>3.0</td>\n",
       "      <td>0.000</td>\n",
       "      <td>NaN</td>\n",
       "      <td>16.542</td>\n",
       "      <td>6.0</td>\n",
       "      <td>68.925</td>\n",
       "      <td>12.0</td>\n",
       "      <td>66.168</td>\n",
       "      <td>14.0</td>\n",
       "      <td>2.757</td>\n",
       "      <td>41.0</td>\n",
       "      <td>8.271</td>\n",
       "      <td>25.5</td>\n",
       "      <td>8.271</td>\n",
       "      <td>4.0</td>\n",
       "      <td>2.757</td>\n",
       "      <td>5.0</td>\n",
       "      <td>2.757</td>\n",
       "      <td>19.0</td>\n",
       "    </tr>\n",
       "    <tr>\n",
       "      <th>2</th>\n",
       "      <td>14</td>\n",
       "      <td>2792</td>\n",
       "      <td>505.352</td>\n",
       "      <td>5.0</td>\n",
       "      <td>242.904</td>\n",
       "      <td>24.0</td>\n",
       "      <td>2.792</td>\n",
       "      <td>5.5</td>\n",
       "      <td>0.000</td>\n",
       "      <td>NaN</td>\n",
       "      <td>2.792</td>\n",
       "      <td>2.0</td>\n",
       "      <td>44.672</td>\n",
       "      <td>3.0</td>\n",
       "      <td>72.592</td>\n",
       "      <td>5.0</td>\n",
       "      <td>108.888</td>\n",
       "      <td>12.0</td>\n",
       "      <td>11.168</td>\n",
       "      <td>4.5</td>\n",
       "      <td>25.128</td>\n",
       "      <td>5.0</td>\n",
       "      <td>22.336</td>\n",
       "      <td>12.0</td>\n",
       "      <td>2.792</td>\n",
       "      <td>24.0</td>\n",
       "      <td>5.584</td>\n",
       "      <td>16.5</td>\n",
       "    </tr>\n",
       "    <tr>\n",
       "      <th>3</th>\n",
       "      <td>15</td>\n",
       "      <td>2956</td>\n",
       "      <td>863.152</td>\n",
       "      <td>6.0</td>\n",
       "      <td>428.620</td>\n",
       "      <td>25.0</td>\n",
       "      <td>14.780</td>\n",
       "      <td>4.0</td>\n",
       "      <td>2.956</td>\n",
       "      <td>9.5</td>\n",
       "      <td>5.912</td>\n",
       "      <td>1.0</td>\n",
       "      <td>62.076</td>\n",
       "      <td>4.0</td>\n",
       "      <td>73.900</td>\n",
       "      <td>5.5</td>\n",
       "      <td>162.580</td>\n",
       "      <td>10.0</td>\n",
       "      <td>23.648</td>\n",
       "      <td>3.0</td>\n",
       "      <td>59.120</td>\n",
       "      <td>4.5</td>\n",
       "      <td>44.340</td>\n",
       "      <td>6.0</td>\n",
       "      <td>8.868</td>\n",
       "      <td>10.5</td>\n",
       "      <td>11.824</td>\n",
       "      <td>30.0</td>\n",
       "    </tr>\n",
       "    <tr>\n",
       "      <th>4</th>\n",
       "      <td>16</td>\n",
       "      <td>3058</td>\n",
       "      <td>1226.258</td>\n",
       "      <td>10.0</td>\n",
       "      <td>688.050</td>\n",
       "      <td>30.0</td>\n",
       "      <td>30.580</td>\n",
       "      <td>7.0</td>\n",
       "      <td>0.000</td>\n",
       "      <td>1.0</td>\n",
       "      <td>3.058</td>\n",
       "      <td>66.5</td>\n",
       "      <td>103.972</td>\n",
       "      <td>3.0</td>\n",
       "      <td>91.740</td>\n",
       "      <td>3.0</td>\n",
       "      <td>189.596</td>\n",
       "      <td>7.0</td>\n",
       "      <td>33.638</td>\n",
       "      <td>4.0</td>\n",
       "      <td>73.392</td>\n",
       "      <td>11.0</td>\n",
       "      <td>55.044</td>\n",
       "      <td>9.5</td>\n",
       "      <td>9.174</td>\n",
       "      <td>36.0</td>\n",
       "      <td>6.116</td>\n",
       "      <td>3.0</td>\n",
       "    </tr>\n",
       "    <tr>\n",
       "      <th>5</th>\n",
       "      <td>17</td>\n",
       "      <td>3038</td>\n",
       "      <td>1497.734</td>\n",
       "      <td>13.0</td>\n",
       "      <td>850.640</td>\n",
       "      <td>36.0</td>\n",
       "      <td>60.760</td>\n",
       "      <td>5.0</td>\n",
       "      <td>3.038</td>\n",
       "      <td>21.0</td>\n",
       "      <td>3.038</td>\n",
       "      <td>64.0</td>\n",
       "      <td>145.824</td>\n",
       "      <td>3.0</td>\n",
       "      <td>60.760</td>\n",
       "      <td>4.0</td>\n",
       "      <td>258.230</td>\n",
       "      <td>9.0</td>\n",
       "      <td>42.532</td>\n",
       "      <td>6.0</td>\n",
       "      <td>106.330</td>\n",
       "      <td>7.0</td>\n",
       "      <td>85.064</td>\n",
       "      <td>9.0</td>\n",
       "      <td>18.228</td>\n",
       "      <td>48.0</td>\n",
       "      <td>15.190</td>\n",
       "      <td>6.5</td>\n",
       "    </tr>\n",
       "    <tr>\n",
       "      <th>6</th>\n",
       "      <td>18</td>\n",
       "      <td>2469</td>\n",
       "      <td>1449.303</td>\n",
       "      <td>24.0</td>\n",
       "      <td>832.053</td>\n",
       "      <td>52.0</td>\n",
       "      <td>79.008</td>\n",
       "      <td>5.0</td>\n",
       "      <td>9.876</td>\n",
       "      <td>10.0</td>\n",
       "      <td>9.876</td>\n",
       "      <td>46.0</td>\n",
       "      <td>172.830</td>\n",
       "      <td>4.0</td>\n",
       "      <td>44.442</td>\n",
       "      <td>4.0</td>\n",
       "      <td>227.148</td>\n",
       "      <td>12.0</td>\n",
       "      <td>41.973</td>\n",
       "      <td>7.0</td>\n",
       "      <td>120.981</td>\n",
       "      <td>12.0</td>\n",
       "      <td>74.070</td>\n",
       "      <td>8.0</td>\n",
       "      <td>12.345</td>\n",
       "      <td>12.0</td>\n",
       "      <td>9.876</td>\n",
       "      <td>10.0</td>\n",
       "    </tr>\n",
       "    <tr>\n",
       "      <th>7</th>\n",
       "      <td>19</td>\n",
       "      <td>2223</td>\n",
       "      <td>1436.058</td>\n",
       "      <td>36.0</td>\n",
       "      <td>742.482</td>\n",
       "      <td>60.0</td>\n",
       "      <td>91.143</td>\n",
       "      <td>5.5</td>\n",
       "      <td>11.115</td>\n",
       "      <td>2.0</td>\n",
       "      <td>11.115</td>\n",
       "      <td>180.0</td>\n",
       "      <td>191.178</td>\n",
       "      <td>3.0</td>\n",
       "      <td>31.122</td>\n",
       "      <td>3.0</td>\n",
       "      <td>208.962</td>\n",
       "      <td>12.0</td>\n",
       "      <td>33.345</td>\n",
       "      <td>7.5</td>\n",
       "      <td>93.366</td>\n",
       "      <td>4.5</td>\n",
       "      <td>73.359</td>\n",
       "      <td>6.0</td>\n",
       "      <td>8.892</td>\n",
       "      <td>105.0</td>\n",
       "      <td>6.669</td>\n",
       "      <td>6.0</td>\n",
       "    </tr>\n",
       "    <tr>\n",
       "      <th>8</th>\n",
       "      <td>20</td>\n",
       "      <td>2271</td>\n",
       "      <td>1582.887</td>\n",
       "      <td>48.0</td>\n",
       "      <td>772.140</td>\n",
       "      <td>60.0</td>\n",
       "      <td>111.279</td>\n",
       "      <td>8.0</td>\n",
       "      <td>13.626</td>\n",
       "      <td>5.0</td>\n",
       "      <td>20.439</td>\n",
       "      <td>45.0</td>\n",
       "      <td>168.054</td>\n",
       "      <td>2.0</td>\n",
       "      <td>34.065</td>\n",
       "      <td>4.0</td>\n",
       "      <td>227.100</td>\n",
       "      <td>10.0</td>\n",
       "      <td>38.607</td>\n",
       "      <td>12.0</td>\n",
       "      <td>122.634</td>\n",
       "      <td>10.0</td>\n",
       "      <td>90.840</td>\n",
       "      <td>12.0</td>\n",
       "      <td>20.439</td>\n",
       "      <td>12.0</td>\n",
       "      <td>11.355</td>\n",
       "      <td>4.0</td>\n",
       "    </tr>\n",
       "    <tr>\n",
       "      <th>9</th>\n",
       "      <td>21</td>\n",
       "      <td>2354</td>\n",
       "      <td>1958.528</td>\n",
       "      <td>52.0</td>\n",
       "      <td>776.820</td>\n",
       "      <td>52.0</td>\n",
       "      <td>112.992</td>\n",
       "      <td>5.0</td>\n",
       "      <td>11.770</td>\n",
       "      <td>17.0</td>\n",
       "      <td>14.124</td>\n",
       "      <td>30.0</td>\n",
       "      <td>148.302</td>\n",
       "      <td>4.0</td>\n",
       "      <td>32.956</td>\n",
       "      <td>2.0</td>\n",
       "      <td>211.860</td>\n",
       "      <td>15.0</td>\n",
       "      <td>30.602</td>\n",
       "      <td>13.5</td>\n",
       "      <td>91.806</td>\n",
       "      <td>7.0</td>\n",
       "      <td>96.514</td>\n",
       "      <td>10.0</td>\n",
       "      <td>14.124</td>\n",
       "      <td>2.0</td>\n",
       "      <td>7.062</td>\n",
       "      <td>9.0</td>\n",
       "    </tr>\n",
       "    <tr>\n",
       "      <th>10</th>\n",
       "      <td>22-23</td>\n",
       "      <td>4707</td>\n",
       "      <td>3963.294</td>\n",
       "      <td>52.0</td>\n",
       "      <td>1336.788</td>\n",
       "      <td>52.0</td>\n",
       "      <td>211.815</td>\n",
       "      <td>5.0</td>\n",
       "      <td>23.535</td>\n",
       "      <td>5.0</td>\n",
       "      <td>51.777</td>\n",
       "      <td>57.5</td>\n",
       "      <td>244.764</td>\n",
       "      <td>3.0</td>\n",
       "      <td>47.070</td>\n",
       "      <td>4.0</td>\n",
       "      <td>470.700</td>\n",
       "      <td>15.0</td>\n",
       "      <td>80.019</td>\n",
       "      <td>17.5</td>\n",
       "      <td>207.108</td>\n",
       "      <td>12.0</td>\n",
       "      <td>169.452</td>\n",
       "      <td>10.0</td>\n",
       "      <td>28.242</td>\n",
       "      <td>46.0</td>\n",
       "      <td>9.414</td>\n",
       "      <td>52.0</td>\n",
       "    </tr>\n",
       "    <tr>\n",
       "      <th>11</th>\n",
       "      <td>24-25</td>\n",
       "      <td>4591</td>\n",
       "      <td>3815.121</td>\n",
       "      <td>52.0</td>\n",
       "      <td>1143.159</td>\n",
       "      <td>60.0</td>\n",
       "      <td>183.640</td>\n",
       "      <td>6.0</td>\n",
       "      <td>22.955</td>\n",
       "      <td>6.0</td>\n",
       "      <td>32.137</td>\n",
       "      <td>88.0</td>\n",
       "      <td>206.595</td>\n",
       "      <td>2.0</td>\n",
       "      <td>36.728</td>\n",
       "      <td>2.0</td>\n",
       "      <td>413.190</td>\n",
       "      <td>15.0</td>\n",
       "      <td>59.683</td>\n",
       "      <td>20.0</td>\n",
       "      <td>197.413</td>\n",
       "      <td>10.0</td>\n",
       "      <td>119.366</td>\n",
       "      <td>10.0</td>\n",
       "      <td>32.137</td>\n",
       "      <td>21.0</td>\n",
       "      <td>9.182</td>\n",
       "      <td>17.5</td>\n",
       "    </tr>\n",
       "    <tr>\n",
       "      <th>12</th>\n",
       "      <td>26-29</td>\n",
       "      <td>2628</td>\n",
       "      <td>2120.796</td>\n",
       "      <td>52.0</td>\n",
       "      <td>546.624</td>\n",
       "      <td>52.0</td>\n",
       "      <td>84.096</td>\n",
       "      <td>5.0</td>\n",
       "      <td>10.512</td>\n",
       "      <td>6.0</td>\n",
       "      <td>15.768</td>\n",
       "      <td>50.0</td>\n",
       "      <td>84.096</td>\n",
       "      <td>3.0</td>\n",
       "      <td>15.768</td>\n",
       "      <td>4.0</td>\n",
       "      <td>218.124</td>\n",
       "      <td>13.0</td>\n",
       "      <td>31.536</td>\n",
       "      <td>13.5</td>\n",
       "      <td>110.376</td>\n",
       "      <td>10.0</td>\n",
       "      <td>60.444</td>\n",
       "      <td>7.0</td>\n",
       "      <td>15.768</td>\n",
       "      <td>30.0</td>\n",
       "      <td>10.512</td>\n",
       "      <td>4.0</td>\n",
       "    </tr>\n",
       "    <tr>\n",
       "      <th>13</th>\n",
       "      <td>30-34</td>\n",
       "      <td>2864</td>\n",
       "      <td>2219.600</td>\n",
       "      <td>52.0</td>\n",
       "      <td>469.696</td>\n",
       "      <td>72.0</td>\n",
       "      <td>60.144</td>\n",
       "      <td>8.0</td>\n",
       "      <td>14.320</td>\n",
       "      <td>15.0</td>\n",
       "      <td>11.456</td>\n",
       "      <td>66.0</td>\n",
       "      <td>51.552</td>\n",
       "      <td>2.0</td>\n",
       "      <td>11.456</td>\n",
       "      <td>3.5</td>\n",
       "      <td>168.976</td>\n",
       "      <td>22.0</td>\n",
       "      <td>25.776</td>\n",
       "      <td>46.0</td>\n",
       "      <td>103.104</td>\n",
       "      <td>8.0</td>\n",
       "      <td>40.096</td>\n",
       "      <td>12.0</td>\n",
       "      <td>11.456</td>\n",
       "      <td>54.0</td>\n",
       "      <td>11.456</td>\n",
       "      <td>10.0</td>\n",
       "    </tr>\n",
       "    <tr>\n",
       "      <th>14</th>\n",
       "      <td>35-49</td>\n",
       "      <td>7391</td>\n",
       "      <td>5543.250</td>\n",
       "      <td>52.0</td>\n",
       "      <td>768.664</td>\n",
       "      <td>48.0</td>\n",
       "      <td>110.865</td>\n",
       "      <td>15.0</td>\n",
       "      <td>36.955</td>\n",
       "      <td>48.0</td>\n",
       "      <td>7.391</td>\n",
       "      <td>280.0</td>\n",
       "      <td>44.346</td>\n",
       "      <td>3.0</td>\n",
       "      <td>22.173</td>\n",
       "      <td>10.0</td>\n",
       "      <td>310.422</td>\n",
       "      <td>12.0</td>\n",
       "      <td>22.173</td>\n",
       "      <td>12.0</td>\n",
       "      <td>140.429</td>\n",
       "      <td>6.0</td>\n",
       "      <td>44.346</td>\n",
       "      <td>24.0</td>\n",
       "      <td>14.782</td>\n",
       "      <td>104.0</td>\n",
       "      <td>22.173</td>\n",
       "      <td>10.0</td>\n",
       "    </tr>\n",
       "    <tr>\n",
       "      <th>15</th>\n",
       "      <td>50-64</td>\n",
       "      <td>3923</td>\n",
       "      <td>2636.256</td>\n",
       "      <td>52.0</td>\n",
       "      <td>286.379</td>\n",
       "      <td>52.0</td>\n",
       "      <td>35.307</td>\n",
       "      <td>36.0</td>\n",
       "      <td>15.692</td>\n",
       "      <td>62.0</td>\n",
       "      <td>3.923</td>\n",
       "      <td>41.0</td>\n",
       "      <td>11.769</td>\n",
       "      <td>44.0</td>\n",
       "      <td>7.846</td>\n",
       "      <td>13.5</td>\n",
       "      <td>98.075</td>\n",
       "      <td>12.0</td>\n",
       "      <td>15.692</td>\n",
       "      <td>5.0</td>\n",
       "      <td>54.922</td>\n",
       "      <td>10.0</td>\n",
       "      <td>11.769</td>\n",
       "      <td>24.0</td>\n",
       "      <td>7.846</td>\n",
       "      <td>30.0</td>\n",
       "      <td>7.846</td>\n",
       "      <td>104.0</td>\n",
       "    </tr>\n",
       "    <tr>\n",
       "      <th>16</th>\n",
       "      <td>65+</td>\n",
       "      <td>2448</td>\n",
       "      <td>1206.864</td>\n",
       "      <td>52.0</td>\n",
       "      <td>29.376</td>\n",
       "      <td>36.0</td>\n",
       "      <td>0.000</td>\n",
       "      <td>NaN</td>\n",
       "      <td>0.000</td>\n",
       "      <td>NaN</td>\n",
       "      <td>0.000</td>\n",
       "      <td>120.0</td>\n",
       "      <td>2.448</td>\n",
       "      <td>2.0</td>\n",
       "      <td>0.000</td>\n",
       "      <td>NaN</td>\n",
       "      <td>14.688</td>\n",
       "      <td>24.0</td>\n",
       "      <td>0.000</td>\n",
       "      <td>NaN</td>\n",
       "      <td>4.896</td>\n",
       "      <td>5.0</td>\n",
       "      <td>0.000</td>\n",
       "      <td>364.0</td>\n",
       "      <td>0.000</td>\n",
       "      <td>NaN</td>\n",
       "      <td>0.000</td>\n",
       "      <td>15.0</td>\n",
       "    </tr>\n",
       "  </tbody>\n",
       "</table>\n",
       "</div>"
      ],
      "text/plain": [
       "      age     n  alcohol_u  alcohol_f  marijuana_u  marijuana_f  cocaine_u  \\\n",
       "0      12  2798    109.122        3.0       30.778          4.0      2.798   \n",
       "1      13  2757    234.345        6.0       93.738         15.0      2.757   \n",
       "2      14  2792    505.352        5.0      242.904         24.0      2.792   \n",
       "3      15  2956    863.152        6.0      428.620         25.0     14.780   \n",
       "4      16  3058   1226.258       10.0      688.050         30.0     30.580   \n",
       "5      17  3038   1497.734       13.0      850.640         36.0     60.760   \n",
       "6      18  2469   1449.303       24.0      832.053         52.0     79.008   \n",
       "7      19  2223   1436.058       36.0      742.482         60.0     91.143   \n",
       "8      20  2271   1582.887       48.0      772.140         60.0    111.279   \n",
       "9      21  2354   1958.528       52.0      776.820         52.0    112.992   \n",
       "10  22-23  4707   3963.294       52.0     1336.788         52.0    211.815   \n",
       "11  24-25  4591   3815.121       52.0     1143.159         60.0    183.640   \n",
       "12  26-29  2628   2120.796       52.0      546.624         52.0     84.096   \n",
       "13  30-34  2864   2219.600       52.0      469.696         72.0     60.144   \n",
       "14  35-49  7391   5543.250       52.0      768.664         48.0    110.865   \n",
       "15  50-64  3923   2636.256       52.0      286.379         52.0     35.307   \n",
       "16    65+  2448   1206.864       52.0       29.376         36.0      0.000   \n",
       "\n",
       "    cocaine_f  crack_u  crack_f  heroin_u  heroin_f  hallucinogen_u  \\\n",
       "0         5.0    0.000      NaN     2.798      35.5           5.596   \n",
       "1         1.0    0.000      3.0     0.000       NaN          16.542   \n",
       "2         5.5    0.000      NaN     2.792       2.0          44.672   \n",
       "3         4.0    2.956      9.5     5.912       1.0          62.076   \n",
       "4         7.0    0.000      1.0     3.058      66.5         103.972   \n",
       "5         5.0    3.038     21.0     3.038      64.0         145.824   \n",
       "6         5.0    9.876     10.0     9.876      46.0         172.830   \n",
       "7         5.5   11.115      2.0    11.115     180.0         191.178   \n",
       "8         8.0   13.626      5.0    20.439      45.0         168.054   \n",
       "9         5.0   11.770     17.0    14.124      30.0         148.302   \n",
       "10        5.0   23.535      5.0    51.777      57.5         244.764   \n",
       "11        6.0   22.955      6.0    32.137      88.0         206.595   \n",
       "12        5.0   10.512      6.0    15.768      50.0          84.096   \n",
       "13        8.0   14.320     15.0    11.456      66.0          51.552   \n",
       "14       15.0   36.955     48.0     7.391     280.0          44.346   \n",
       "15       36.0   15.692     62.0     3.923      41.0          11.769   \n",
       "16        NaN    0.000      NaN     0.000     120.0           2.448   \n",
       "\n",
       "    hallucinogen_f  inhalant_u  inhalant_f  pain-releiver_u  pain-releiver_f  \\\n",
       "0             52.0      44.768        19.0           55.960             36.0   \n",
       "1              6.0      68.925        12.0           66.168             14.0   \n",
       "2              3.0      72.592         5.0          108.888             12.0   \n",
       "3              4.0      73.900         5.5          162.580             10.0   \n",
       "4              3.0      91.740         3.0          189.596              7.0   \n",
       "5              3.0      60.760         4.0          258.230              9.0   \n",
       "6              4.0      44.442         4.0          227.148             12.0   \n",
       "7              3.0      31.122         3.0          208.962             12.0   \n",
       "8              2.0      34.065         4.0          227.100             10.0   \n",
       "9              4.0      32.956         2.0          211.860             15.0   \n",
       "10             3.0      47.070         4.0          470.700             15.0   \n",
       "11             2.0      36.728         2.0          413.190             15.0   \n",
       "12             3.0      15.768         4.0          218.124             13.0   \n",
       "13             2.0      11.456         3.5          168.976             22.0   \n",
       "14             3.0      22.173        10.0          310.422             12.0   \n",
       "15            44.0       7.846        13.5           98.075             12.0   \n",
       "16             2.0       0.000         NaN           14.688             24.0   \n",
       "\n",
       "    oxycontin_u  oxycontin_f  tranquilizer_u  tranquilizer_f  stimulant_u  \\\n",
       "0         2.798         24.5           5.596            52.0        5.596   \n",
       "1         2.757         41.0           8.271            25.5        8.271   \n",
       "2        11.168          4.5          25.128             5.0       22.336   \n",
       "3        23.648          3.0          59.120             4.5       44.340   \n",
       "4        33.638          4.0          73.392            11.0       55.044   \n",
       "5        42.532          6.0         106.330             7.0       85.064   \n",
       "6        41.973          7.0         120.981            12.0       74.070   \n",
       "7        33.345          7.5          93.366             4.5       73.359   \n",
       "8        38.607         12.0         122.634            10.0       90.840   \n",
       "9        30.602         13.5          91.806             7.0       96.514   \n",
       "10       80.019         17.5         207.108            12.0      169.452   \n",
       "11       59.683         20.0         197.413            10.0      119.366   \n",
       "12       31.536         13.5         110.376            10.0       60.444   \n",
       "13       25.776         46.0         103.104             8.0       40.096   \n",
       "14       22.173         12.0         140.429             6.0       44.346   \n",
       "15       15.692          5.0          54.922            10.0       11.769   \n",
       "16        0.000          NaN           4.896             5.0        0.000   \n",
       "\n",
       "    stimulant_f  meth_u  meth_f  sedative_u  sedative_f  \n",
       "0           2.0   0.000     NaN       5.596        13.0  \n",
       "1           4.0   2.757     5.0       2.757        19.0  \n",
       "2          12.0   2.792    24.0       5.584        16.5  \n",
       "3           6.0   8.868    10.5      11.824        30.0  \n",
       "4           9.5   9.174    36.0       6.116         3.0  \n",
       "5           9.0  18.228    48.0      15.190         6.5  \n",
       "6           8.0  12.345    12.0       9.876        10.0  \n",
       "7           6.0   8.892   105.0       6.669         6.0  \n",
       "8          12.0  20.439    12.0      11.355         4.0  \n",
       "9          10.0  14.124     2.0       7.062         9.0  \n",
       "10         10.0  28.242    46.0       9.414        52.0  \n",
       "11         10.0  32.137    21.0       9.182        17.5  \n",
       "12          7.0  15.768    30.0      10.512         4.0  \n",
       "13         12.0  11.456    54.0      11.456        10.0  \n",
       "14         24.0  14.782   104.0      22.173        10.0  \n",
       "15         24.0   7.846    30.0       7.846       104.0  \n",
       "16        364.0   0.000     NaN       0.000        15.0  "
      ]
     },
     "execution_count": 53,
     "metadata": {},
     "output_type": "execute_result"
    }
   ],
   "source": [
    "drug_n"
   ]
  },
  {
   "cell_type": "code",
   "execution_count": 54,
   "metadata": {},
   "outputs": [],
   "source": [
    "to_drop=['alcohol_f','marijuana_f','cocaine_f','crack_f','heroin_f','hallucinogen_f','inhalant_f','pain-releiver_f','oxycontin_f','tranquilizer_f', 'stimulant_f', 'meth_f', 'sedative_f']\n",
    "\n",
    "drug_u=drug_n.drop(to_drop, axis=1)"
   ]
  },
  {
   "cell_type": "markdown",
   "metadata": {},
   "source": [
    "The drugs was classified according to their groups and classified into 5 category. \n",
    "1. depressants which include alcohol, transquilizer, oxycontin, sedative\n",
    "2. stimulants which include cocaine, crack and meth \n",
    "3. narcotics which include inhalant, pain-reliever and heroin\n",
    "4. hallucinogen\n",
    "5. marijuana\n"
   ]
  },
  {
   "cell_type": "code",
   "execution_count": 55,
   "metadata": {},
   "outputs": [],
   "source": [
    "#The derived drug categories  were calculated\n",
    "\n",
    "derived_drug_u=pd.DataFrame({'age':drug_u['age'],'n':drug_u['n']})\n",
    "\n",
    "derived_drug_u['depressants']=drug_u['alcohol_u']+drug_u['tranquilizer_u']+drug_u['oxycontin_u']+drug_u['sedative_u']\n",
    "\n",
    "derived_drug_u['stimulants']=drug_u['cocaine_u']+drug_u['crack_u']+drug_u['meth_u']+drug_u['stimulant_u']\n",
    "\n",
    "derived_drug_u['narcotics']=drug_u['inhalant_u']+drug_u['pain-releiver_u']+drug_u['heroin_u']\n",
    "\n",
    "derived_drug_u['hallucinogen']=drug_u['hallucinogen_u']\n",
    "\n",
    "derived_drug_u['marijuana']=drug_u['marijuana_u']                                      \n"
   ]
  },
  {
   "cell_type": "code",
   "execution_count": 56,
   "metadata": {},
   "outputs": [
    {
     "data": {
      "text/html": [
       "<div>\n",
       "<style scoped>\n",
       "    .dataframe tbody tr th:only-of-type {\n",
       "        vertical-align: middle;\n",
       "    }\n",
       "\n",
       "    .dataframe tbody tr th {\n",
       "        vertical-align: top;\n",
       "    }\n",
       "\n",
       "    .dataframe thead th {\n",
       "        text-align: right;\n",
       "    }\n",
       "</style>\n",
       "<table border=\"1\" class=\"dataframe\">\n",
       "  <thead>\n",
       "    <tr style=\"text-align: right;\">\n",
       "      <th></th>\n",
       "      <th>age</th>\n",
       "      <th>n</th>\n",
       "      <th>depressants</th>\n",
       "      <th>stimulants</th>\n",
       "      <th>narcotics</th>\n",
       "      <th>hallucinogen</th>\n",
       "      <th>marijuana</th>\n",
       "    </tr>\n",
       "  </thead>\n",
       "  <tbody>\n",
       "    <tr>\n",
       "      <th>0</th>\n",
       "      <td>12</td>\n",
       "      <td>2798</td>\n",
       "      <td>46.096</td>\n",
       "      <td>NaN</td>\n",
       "      <td>90.5</td>\n",
       "      <td>52.0</td>\n",
       "      <td>4.0</td>\n",
       "    </tr>\n",
       "    <tr>\n",
       "      <th>1</th>\n",
       "      <td>13</td>\n",
       "      <td>2757</td>\n",
       "      <td>74.271</td>\n",
       "      <td>10.000</td>\n",
       "      <td>NaN</td>\n",
       "      <td>6.0</td>\n",
       "      <td>15.0</td>\n",
       "    </tr>\n",
       "    <tr>\n",
       "      <th>2</th>\n",
       "      <td>14</td>\n",
       "      <td>2792</td>\n",
       "      <td>51.128</td>\n",
       "      <td>41.500</td>\n",
       "      <td>19.0</td>\n",
       "      <td>3.0</td>\n",
       "      <td>24.0</td>\n",
       "    </tr>\n",
       "    <tr>\n",
       "      <th>3</th>\n",
       "      <td>15</td>\n",
       "      <td>2956</td>\n",
       "      <td>98.120</td>\n",
       "      <td>23.456</td>\n",
       "      <td>16.5</td>\n",
       "      <td>4.0</td>\n",
       "      <td>25.0</td>\n",
       "    </tr>\n",
       "    <tr>\n",
       "      <th>4</th>\n",
       "      <td>16</td>\n",
       "      <td>3058</td>\n",
       "      <td>90.392</td>\n",
       "      <td>52.500</td>\n",
       "      <td>76.5</td>\n",
       "      <td>3.0</td>\n",
       "      <td>30.0</td>\n",
       "    </tr>\n",
       "  </tbody>\n",
       "</table>\n",
       "</div>"
      ],
      "text/plain": [
       "  age     n  depressants  stimulants  narcotics  hallucinogen  marijuana\n",
       "0  12  2798       46.096         NaN       90.5          52.0        4.0\n",
       "1  13  2757       74.271      10.000        NaN           6.0       15.0\n",
       "2  14  2792       51.128      41.500       19.0           3.0       24.0\n",
       "3  15  2956       98.120      23.456       16.5           4.0       25.0\n",
       "4  16  3058       90.392      52.500       76.5           3.0       30.0"
      ]
     },
     "execution_count": 56,
     "metadata": {},
     "output_type": "execute_result"
    }
   ],
   "source": [
    "# The median time frequency consumption of different types of drug was calculated.\n",
    "\n",
    "derived_drug_f=pd.DataFrame({'age':drug_u['age'],'n':drug_u['n']})\n",
    "\n",
    "derived_drug_f['depressants']=drug_n['alcohol_f']+drug_n['tranquilizer_u']+drug_n['oxycontin_f']+drug_n['sedative_f']\n",
    "\n",
    "derived_drug_f['stimulants']=drug_n['cocaine_f']+drug_n['crack_u']+drug_n['meth_f']+drug_n['stimulant_f']\n",
    "\n",
    "derived_drug_f['narcotics']=drug_n['inhalant_f']+drug_n['pain-releiver_f']+drug_n['heroin_f']\n",
    "\n",
    "derived_drug_f['hallucinogen']=drug_n['hallucinogen_f']\n",
    "\n",
    "derived_drug_f['marijuana']=drug_n['marijuana_f']  \n",
    "\n",
    "derived_drug_f.head()"
   ]
  },
  {
   "cell_type": "markdown",
   "metadata": {},
   "source": [
    "### 7.2 Do a high-level, initial overview of the data\n",
    "\n",
    "Get a feel for what this dataset is all about.\n",
    "\n",
    "Use whichever techniques you'd like, including those from the SAT dataset EDA. The final response to this question should be a written description of what you infer about the dataset.\n",
    "\n",
    "Some things to consider doing:\n",
    "\n",
    "- Look for relationships between variables and subsets of those variables' values\n",
    "- Derive new features from the ones available to help your analysis\n",
    "- Visualize everything!"
   ]
  },
  {
   "cell_type": "code",
   "execution_count": 57,
   "metadata": {},
   "outputs": [
    {
     "data": {
      "text/plain": [
       "Text(0.5,1,'Age Vs Number of people')"
      ]
     },
     "execution_count": 57,
     "metadata": {},
     "output_type": "execute_result"
    },
    {
     "data": {
      "image/png": "[encoded data removed]",
      "text/plain": [
       "<Figure size 1152x576 with 1 Axes>"
      ]
     },
     "metadata": {
      "image/png": {
       "height": 492,
       "width": 941
      },
      "needs_background": "light"
     },
     "output_type": "display_data"
    }
   ],
   "source": [
    "ax=derived_drug_u[['age','n']].plot(kind='bar', figsize=(16,8))\n",
    "\n",
    "# ax.set_xticklabels('12','13','14','15','16','17','18','19','20','21','22-23','24-25','26-29','30-34','35-49','50-64','65+')\n",
    "\n",
    "ax.set_title('Age Vs Number of people', fontsize=22)\n",
    "\n",
    "# As shown in the figure we could see that the consumption of drug is high during 14 which corresponds to age 35-49. \n"
   ]
  },
  {
   "cell_type": "code",
   "execution_count": 58,
   "metadata": {},
   "outputs": [
    {
     "data": {
      "text/plain": [
       "<matplotlib.axes._subplots.AxesSubplot at 0x12f007f7080>"
      ]
     },
     "execution_count": 58,
     "metadata": {},
     "output_type": "execute_result"
    },
    {
     "data": {
      "image/png": "[encoded data removed]",
      "text/plain": [
       "<Figure size 1080x504 with 1 Axes>"
      ]
     },
     "metadata": {
      "image/png": {
       "height": 414,
       "width": 885
      },
      "needs_background": "light"
     },
     "output_type": "display_data"
    }
   ],
   "source": [
    " # The consumption of different types of drug was plotted. It is clear that the depressants are the most consumed drug. \n",
    "\n",
    "derived_drug_u['depressants'].plot(c='red',linewidth=3, legend=True, figsize=(15,7))\n",
    "derived_drug_u['stimulants'].plot(c='blue',linewidth=3, legend=True)\n",
    "derived_drug_u['narcotics'].plot(c='pink',linewidth=3, legend=True)\n",
    "derived_drug_u['hallucinogen'].plot(c='yellow',linewidth=3, legend=True)\n",
    "derived_drug_u['marijuana'].plot(c='green',linewidth=3, legend=True)\n"
   ]
  },
  {
   "cell_type": "code",
   "execution_count": null,
   "metadata": {},
   "outputs": [],
   "source": []
  },
  {
   "cell_type": "code",
   "execution_count": 59,
   "metadata": {},
   "outputs": [
    {
     "data": {
      "text/plain": [
       "<matplotlib.axes._subplots.AxesSubplot at 0x12f0084c278>"
      ]
     },
     "execution_count": 59,
     "metadata": {},
     "output_type": "execute_result"
    },
    {
     "data": {
      "image/png": "[encoded data removed]",
      "text/plain": [
       "<Figure size 864x432 with 1 Axes>"
      ]
     },
     "metadata": {
      "image/png": {
       "height": 375,
       "width": 718
      },
      "needs_background": "light"
     },
     "output_type": "display_data"
    }
   ],
   "source": [
    "#From the plot below, it is clear that alcohol is the maximum used drug in the depressants type. \n",
    "\n",
    "depressants=pd.DataFrame({'alcohol':drug_u['alcohol_u'],'tranquilizer':drug_u['tranquilizer_u'],'oxycontin':drug_u['oxycontin_u'],'sedative':drug_u['sedative_u']})\n",
    "\n",
    "depressants.plot(kind='bar',stacked=True,figsize=(12,6), title='Usage of depressants')"
   ]
  },
  {
   "cell_type": "code",
   "execution_count": 60,
   "metadata": {},
   "outputs": [
    {
     "data": {
      "text/plain": [
       "<matplotlib.axes._subplots.AxesSubplot at 0x12f00deaf60>"
      ]
     },
     "execution_count": 60,
     "metadata": {},
     "output_type": "execute_result"
    },
    {
     "data": {
      "image/png": "[encoded data removed]",
      "text/plain": [
       "<Figure size 1080x504 with 1 Axes>"
      ]
     },
     "metadata": {
      "image/png": {
       "height": 413,
       "width": 879
      },
      "needs_background": "light"
     },
     "output_type": "display_data"
    }
   ],
   "source": [
    "# The median time frequency consumption of different types of drug was calculated\n",
    "\n",
    "derived_drug_f['depressants'].plot(c='red',linewidth=3, legend=True, figsize=(15,7))\n",
    "derived_drug_f['stimulants'].plot(c='blue',linewidth=3, legend=True)\n",
    "derived_drug_f['narcotics'].plot(c='orange',linewidth=3, legend=True)\n",
    "derived_drug_f['hallucinogen'].plot(c='yellow',linewidth=3, legend=True)\n",
    "derived_drug_f['marijuana'].plot(c='green',linewidth=3, legend=True)\n"
   ]
  },
  {
   "cell_type": "code",
   "execution_count": 61,
   "metadata": {},
   "outputs": [
    {
     "data": {
      "text/plain": [
       "<matplotlib.axes._subplots.AxesSubplot at 0x12f00e9ce48>"
      ]
     },
     "execution_count": 61,
     "metadata": {},
     "output_type": "execute_result"
    },
    {
     "data": {
      "image/png": "[encoded data removed]",
      "text/plain": [
       "<Figure size 864x432 with 1 Axes>"
      ]
     },
     "metadata": {
      "image/png": {
       "height": 375,
       "width": 712
      },
      "needs_background": "light"
     },
     "output_type": "display_data"
    }
   ],
   "source": [
    "# A strange result was spotted in the graph above. We could find that the there was higher peaks of narcotics was observed. \n",
    "#Therefore the distribution of narcotic drug was studied. From the graph shown below, heroin usuage was maximum. \n",
    "# Further examination was done to locate the outliers.\n",
    "\n",
    "narcotics=pd.DataFrame({'inhalant':drug_n['inhalant_f'],'pain-releiver':drug_n['pain-releiver_f'],'heroin':drug_n['heroin_f']})\n",
    "\n",
    "narcotics.plot(kind='bar',stacked=True,figsize=(12,6), title='Frequency of narcotics usage')"
   ]
  },
  {
   "cell_type": "code",
   "execution_count": 62,
   "metadata": {},
   "outputs": [
    {
     "data": {
      "text/plain": [
       "Text(0.5,1,'Heroin Data Boxplot')"
      ]
     },
     "execution_count": 62,
     "metadata": {},
     "output_type": "execute_result"
    },
    {
     "data": {
      "image/png": "[encoded data removed]",
      "text/plain": [
       "<Figure size 432x288 with 1 Axes>"
      ]
     },
     "metadata": {
      "image/png": {
       "height": 235,
       "width": 390
      },
      "needs_background": "light"
     },
     "output_type": "display_data"
    }
   ],
   "source": [
    "#The distribution of heroin was studied using boxplot. As seen in the figure we could expect some outliers\n",
    "# in that data. \n",
    "\n",
    "\n",
    "sns.boxplot(x=\"heroin\", data=narcotics,orient=\"v\")\n",
    "ax.set_ylabel('heroin',fontsize=16)\n",
    "ax.set_title('Heroin Data Boxplot', fontsize=20)"
   ]
  },
  {
   "cell_type": "markdown",
   "metadata": {},
   "source": [
    "### 7.3 Create a testable hypothesis about this data\n",
    "\n",
    "Requirements for the question:\n",
    "\n",
    "1. Write a specific question you would like to answer with the data (that can be accomplished with EDA).\n",
    "2. Write a description of the \"deliverables\": what will you report after testing/examining your hypothesis?\n",
    "3. Use EDA techniques of your choice, numeric and/or visual, to look into your question.\n",
    "4. Write up your report on what you have found regarding the hypothesis about the data you came up with.\n",
    "\n",
    "\n",
    "Your hypothesis could be on:\n",
    "\n",
    "- Difference of group means\n",
    "- Correlations between variables\n",
    "- Anything else you think is interesting, testable, and meaningful!\n",
    "\n",
    "**Important notes:**\n",
    "\n",
    "You should be only doing EDA _relevant to your question_ here. It is easy to go down rabbit holes trying to look at every facet of your data, and so we want you to get in the practice of specifying a hypothesis you are interested in first and scoping your work to specifically answer that question.\n",
    "\n",
    "Some of you may want to jump ahead to \"modeling\" data to answer your question. This is a topic addressed in the next project and **you should not do this for this project.** We specifically want you to not do modeling to emphasize the importance of performing EDA _before_ you jump to statistical analysis."
   ]
  },
  {
   "cell_type": "markdown",
   "metadata": {
    "collapsed": true
   },
   "source": [
    "** Question and deliverables**\n",
    "\n",
    "\n",
    "..."
   ]
  },
  {
   "cell_type": "code",
   "execution_count": 63,
   "metadata": {},
   "outputs": [],
   "source": [
    "# Spearman’s Rank Correlation test is done to find whether alcohol and tranquillizer samples have a monotonic relationship.\n",
    "\n",
    "# The assumptions made were:\n",
    "\n",
    "# Observations in each sample are independent and identically distributed (iid).\n",
    "# Observations in each sample can be ranked.\n",
    "\n",
    "# Interpretation:\n",
    "\n",
    "# H0: the two samples are independent.\n",
    "# H1: there is a dependency between the samples."
   ]
  },
  {
   "cell_type": "code",
   "execution_count": 64,
   "metadata": {},
   "outputs": [
    {
     "name": "stdout",
     "output_type": "stream",
     "text": [
      "correlation coefficient= 0.7818627450980392\n",
      "p value= 0.00020916180432210761\n"
     ]
    }
   ],
   "source": [
    "from scipy.stats import spearmanr\n",
    "data1=depressants['alcohol']\n",
    "data2=depressants['tranquilizer']\n",
    "corr, p = spearmanr(data1, data2)\n",
    "print('correlation coefficient=',corr)\n",
    "print('p value=',p)"
   ]
  },
  {
   "cell_type": "markdown",
   "metadata": {},
   "source": [
    "Report:\n",
    "\n",
    "* p<0.05\n",
    "* the correlation coefficient is positive(0.78), therefore there is a positive relationship between two samples\n",
    "* we can reject the null hypothesis (H0)\n",
    "* we can say that there is dependency between the two samples (alcohol and tranquilizer)\n"
   ]
  },
  {
   "cell_type": "markdown",
   "metadata": {},
   "source": [
    "<img src=\"http://imgur.com/xDpSobf.png\" style=\"float: left; margin: 25px 15px 0px 0px; height: 25px\">\n",
    "\n",
    "## 8. Introduction to dealing with outliers\n",
    "\n",
    "---\n",
    "\n",
    "Outliers are an interesting problem in statistics, in that there is not an agreed upon best way to define them. Subjectivity in selecting and analyzing data is a problem that will recur throughout the course.\n",
    "\n",
    "1. Pull out the rate variable from the sat dataset.\n",
    "2. Are there outliers in the dataset? Define, in words, how you _numerically define outliers._\n",
    "3. Print out the outliers in the dataset.\n",
    "4. Remove the outliers from the dataset.\n",
    "5. Compare the mean, median, and standard deviation of the \"cleaned\" data without outliers to the original. What is different about them and why?"
   ]
  },
  {
   "cell_type": "code",
   "execution_count": 65,
   "metadata": {},
   "outputs": [
    {
     "data": {
      "text/plain": [
       "Text(0.5,1,'Rate_unclean Data Boxplot')"
      ]
     },
     "execution_count": 65,
     "metadata": {},
     "output_type": "execute_result"
    },
    {
     "data": {
      "image/png": "[encoded data removed]",
      "text/plain": [
       "<Figure size 432x288 with 1 Axes>"
      ]
     },
     "metadata": {
      "image/png": {
       "height": 255,
       "width": 390
      },
      "needs_background": "light"
     },
     "output_type": "display_data"
    }
   ],
   "source": [
    "#8.1 The rate variable is taken from the sat_score for analysis of outliers. The Box plot is made to visualize the values. \n",
    "\n",
    "\n",
    "ax=sns.boxplot(x=\"Rate\", data=sat_score,orient=\"v\")\n",
    "ax.set_ylabel('Rate',fontsize=16)\n",
    "ax.set_title('Rate_unclean Data Boxplot', fontsize=20)\n"
   ]
  },
  {
   "cell_type": "code",
   "execution_count": 66,
   "metadata": {},
   "outputs": [
    {
     "data": {
      "text/plain": [
       "count    52.000000\n",
       "mean     37.153846\n",
       "std      27.301788\n",
       "min       4.000000\n",
       "25%       9.000000\n",
       "50%      33.500000\n",
       "75%      63.500000\n",
       "max      82.000000\n",
       "Name: Rate, dtype: float64"
      ]
     },
     "execution_count": 66,
     "metadata": {},
     "output_type": "execute_result"
    }
   ],
   "source": [
    "sat_score['Rate'].describe()"
   ]
  },
  {
   "cell_type": "code",
   "execution_count": 67,
   "metadata": {},
   "outputs": [],
   "source": [
    "# 8.2 Outliers are defined as values that are very different from the most of the values in the data set. \n",
    "# It can be clearly seen that the rate variables have outliers.\n"
   ]
  },
  {
   "cell_type": "code",
   "execution_count": 68,
   "metadata": {},
   "outputs": [
    {
     "name": "stdout",
     "output_type": "stream",
     "text": [
      "Rate_outliers [82, 81, 79, 77, 72, 71, 71, 69, 69, 68, 67, 65, 65, 8, 8, 8, 7, 6, 6, 5, 5, 4, 4, 4]\n"
     ]
    }
   ],
   "source": [
    "#8.3 & 8.4 The outliers were  removed from the data set and clear data it stored in rate_value. The outliers were printed. \n",
    "\n",
    "rate=sat_score['Rate']\n",
    "outliers=[]\n",
    "rate_value=[]\n",
    "for value in rate:\n",
    "    if value > 63:\n",
    "        outliers.append(value)\n",
    "    elif value<9:\n",
    "        outliers.append(value)\n",
    "    else:\n",
    "        rate_value.append(value)\n",
    "        \n",
    "print('Rate_outliers',outliers)"
   ]
  },
  {
   "cell_type": "code",
   "execution_count": 69,
   "metadata": {},
   "outputs": [
    {
     "name": "stdout",
     "output_type": "stream",
     "text": [
      "len of clean Rate Data= 28\n",
      "Rate_clean_avg= 33.25\n"
     ]
    },
    {
     "data": {
      "image/png": "[encoded data removed]",
      "text/plain": [
       "<Figure size 432x288 with 1 Axes>"
      ]
     },
     "metadata": {
      "image/png": {
       "height": 255,
       "width": 390
      },
      "needs_background": "light"
     },
     "output_type": "display_data"
    }
   ],
   "source": [
    "#8.5 The comparison between the clean and unclean rate dataset\n",
    "\n",
    "rate_clean=pd.Series({'rate_c':rate_value})\n",
    "\n",
    "#The boxplot was done using seabon to visualize the effect of the outliers in the \n",
    "\n",
    "ax=sns.boxplot(x='rate_c', data=rate_clean,orient=\"v\",palette='rainbow')\n",
    "ax.set_ylabel('Rate',fontsize=16)\n",
    "ax.set_title('Rate_Clean Data Boxplot', fontsize=20)\n",
    "\n",
    "Rate_clean_avg=sum(rate_value)/len(rate_value)\n",
    "\n",
    "print('len of clean Rate Data=',len(rate_value))\n",
    "\n",
    "print('Rate_clean_avg=',Rate_clean_avg)\n",
    "\n",
    "#The mean value of the clean rate data is decreased from 37 to 33. \n",
    "# This is because the low outliers data values were removed from the data. \n",
    "# Since median is the 50 percentile value it will not be affected by the outlier points.\n"
   ]
  },
  {
   "cell_type": "markdown",
   "metadata": {},
   "source": [
    "\n",
    "9. Percentile scoring and spearman rank correlation\n",
    "9.1 Calculate the spearman correlation of sat Verbal and Math¶\n",
    "How does the spearman correlation compare to the pearson correlation?\n",
    "Describe clearly in words the process of calculating the spearman rank correlation.\n",
    "Hint: the word \"rank\" is in the name of the process for a reason!"
   ]
  },
  {
   "cell_type": "markdown",
   "metadata": {},
   "source": [
    "The Pearson correlation evaluates the linear relationship between two continuous variables. \n",
    "However, the Spearman correlation coefficient is based on the ranked values for each variable rather than the raw data.\n",
    "Therefore Spearman correlation correlation is often used to evaluate relationships involving ordinal variables."
   ]
  },
  {
   "cell_type": "code",
   "execution_count": 70,
   "metadata": {},
   "outputs": [],
   "source": [
    "to_drop=['Rate','Verbal_minus_Math']\n",
    "sat_score_n=sat_score.drop(to_drop,axis=1)"
   ]
  },
  {
   "cell_type": "code",
   "execution_count": 71,
   "metadata": {},
   "outputs": [
    {
     "data": {
      "text/html": [
       "<div>\n",
       "<style scoped>\n",
       "    .dataframe tbody tr th:only-of-type {\n",
       "        vertical-align: middle;\n",
       "    }\n",
       "\n",
       "    .dataframe tbody tr th {\n",
       "        vertical-align: top;\n",
       "    }\n",
       "\n",
       "    .dataframe thead th {\n",
       "        text-align: right;\n",
       "    }\n",
       "</style>\n",
       "<table border=\"1\" class=\"dataframe\">\n",
       "  <thead>\n",
       "    <tr style=\"text-align: right;\">\n",
       "      <th></th>\n",
       "      <th>Verbal</th>\n",
       "      <th>Math</th>\n",
       "    </tr>\n",
       "  </thead>\n",
       "  <tbody>\n",
       "    <tr>\n",
       "      <th>Verbal</th>\n",
       "      <td>1.000000</td>\n",
       "      <td>0.899871</td>\n",
       "    </tr>\n",
       "    <tr>\n",
       "      <th>Math</th>\n",
       "      <td>0.899871</td>\n",
       "      <td>1.000000</td>\n",
       "    </tr>\n",
       "  </tbody>\n",
       "</table>\n",
       "</div>"
      ],
      "text/plain": [
       "          Verbal      Math\n",
       "Verbal  1.000000  0.899871\n",
       "Math    0.899871  1.000000"
      ]
     },
     "execution_count": 71,
     "metadata": {},
     "output_type": "execute_result"
    }
   ],
   "source": [
    "# pearson correlation of sat Verbal and Math scores\n",
    "\n",
    "sat_score_n.corr(method='pearson', min_periods=1)\n",
    "\n"
   ]
  },
  {
   "cell_type": "code",
   "execution_count": 72,
   "metadata": {},
   "outputs": [
    {
     "data": {
      "text/html": [
       "<div>\n",
       "<style scoped>\n",
       "    .dataframe tbody tr th:only-of-type {\n",
       "        vertical-align: middle;\n",
       "    }\n",
       "\n",
       "    .dataframe tbody tr th {\n",
       "        vertical-align: top;\n",
       "    }\n",
       "\n",
       "    .dataframe thead th {\n",
       "        text-align: right;\n",
       "    }\n",
       "</style>\n",
       "<table border=\"1\" class=\"dataframe\">\n",
       "  <thead>\n",
       "    <tr style=\"text-align: right;\">\n",
       "      <th></th>\n",
       "      <th>Verbal</th>\n",
       "      <th>Math</th>\n",
       "    </tr>\n",
       "  </thead>\n",
       "  <tbody>\n",
       "    <tr>\n",
       "      <th>Verbal</th>\n",
       "      <td>1.000000</td>\n",
       "      <td>0.905205</td>\n",
       "    </tr>\n",
       "    <tr>\n",
       "      <th>Math</th>\n",
       "      <td>0.905205</td>\n",
       "      <td>1.000000</td>\n",
       "    </tr>\n",
       "  </tbody>\n",
       "</table>\n",
       "</div>"
      ],
      "text/plain": [
       "          Verbal      Math\n",
       "Verbal  1.000000  0.905205\n",
       "Math    0.905205  1.000000"
      ]
     },
     "execution_count": 72,
     "metadata": {},
     "output_type": "execute_result"
    }
   ],
   "source": [
    "# Spearman correlation of sat Verbal and Math scores\n",
    "sat_score_n.corr(method='spearman', min_periods=1)\n"
   ]
  },
  {
   "cell_type": "markdown",
   "metadata": {},
   "source": [
    "### 9.2 Percentile scoring\n",
    "\n",
    "Look up percentile scoring of data. In other words, the conversion of numeric data to their equivalent percentile scores.\n",
    "\n",
    "http://docs.scipy.org/doc/numpy-dev/reference/generated/numpy.percentile.html\n",
    "\n",
    "http://docs.scipy.org/doc/scipy/reference/generated/scipy.stats.percentileofscore.html\n",
    "\n",
    "1. Convert `Rate` to percentiles in the sat scores as a new column.\n",
    "2. Show the percentile of California in `Rate`.\n",
    "3. How is percentile related to the spearman rank correlation?"
   ]
  },
  {
   "cell_type": "code",
   "execution_count": 73,
   "metadata": {},
   "outputs": [
    {
     "data": {
      "text/html": [
       "<div>\n",
       "<style scoped>\n",
       "    .dataframe tbody tr th:only-of-type {\n",
       "        vertical-align: middle;\n",
       "    }\n",
       "\n",
       "    .dataframe tbody tr th {\n",
       "        vertical-align: top;\n",
       "    }\n",
       "\n",
       "    .dataframe thead th {\n",
       "        text-align: right;\n",
       "    }\n",
       "</style>\n",
       "<table border=\"1\" class=\"dataframe\">\n",
       "  <thead>\n",
       "    <tr style=\"text-align: right;\">\n",
       "      <th></th>\n",
       "      <th>State</th>\n",
       "      <th>Rate</th>\n",
       "      <th>Verbal</th>\n",
       "      <th>Math</th>\n",
       "      <th>Verbal_minus_Math</th>\n",
       "      <th>Rate_percentile</th>\n",
       "    </tr>\n",
       "  </thead>\n",
       "  <tbody>\n",
       "    <tr>\n",
       "      <th>0</th>\n",
       "      <td>CT</td>\n",
       "      <td>82</td>\n",
       "      <td>509</td>\n",
       "      <td>510</td>\n",
       "      <td>-1</td>\n",
       "      <td>100.000000</td>\n",
       "    </tr>\n",
       "    <tr>\n",
       "      <th>1</th>\n",
       "      <td>NJ</td>\n",
       "      <td>81</td>\n",
       "      <td>499</td>\n",
       "      <td>513</td>\n",
       "      <td>-14</td>\n",
       "      <td>98.076923</td>\n",
       "    </tr>\n",
       "    <tr>\n",
       "      <th>2</th>\n",
       "      <td>MA</td>\n",
       "      <td>79</td>\n",
       "      <td>511</td>\n",
       "      <td>515</td>\n",
       "      <td>-4</td>\n",
       "      <td>96.153846</td>\n",
       "    </tr>\n",
       "    <tr>\n",
       "      <th>3</th>\n",
       "      <td>NY</td>\n",
       "      <td>77</td>\n",
       "      <td>495</td>\n",
       "      <td>505</td>\n",
       "      <td>-10</td>\n",
       "      <td>94.230769</td>\n",
       "    </tr>\n",
       "    <tr>\n",
       "      <th>4</th>\n",
       "      <td>NH</td>\n",
       "      <td>72</td>\n",
       "      <td>520</td>\n",
       "      <td>516</td>\n",
       "      <td>4</td>\n",
       "      <td>92.307692</td>\n",
       "    </tr>\n",
       "  </tbody>\n",
       "</table>\n",
       "</div>"
      ],
      "text/plain": [
       "  State  Rate  Verbal  Math  Verbal_minus_Math  Rate_percentile\n",
       "0    CT    82     509   510                 -1       100.000000\n",
       "1    NJ    81     499   513                -14        98.076923\n",
       "2    MA    79     511   515                 -4        96.153846\n",
       "3    NY    77     495   505                -10        94.230769\n",
       "4    NH    72     520   516                  4        92.307692"
      ]
     },
     "execution_count": 73,
     "metadata": {},
     "output_type": "execute_result"
    }
   ],
   "source": [
    "# The Rate_percentile column was added to sat_score dataframe. \n",
    "# Build-in function stats.percentileofscore is used to calculate the percentile score.\n",
    "\n",
    "from scipy import stats\n",
    "Rate_p=[]\n",
    "for value in sat_score['Rate']:\n",
    "    a=stats.percentileofscore(sat_score['Rate'], value)\n",
    "    Rate_p.append(a)\n",
    "sat_score['Rate_percentile']=Rate_p\n",
    "sat_score.head()\n",
    "\n",
    "# The rate percentile of California is 57 however its rate is 51. \n",
    "#Similar to the spearman, percentile is also based on rank among the data."
   ]
  },
  {
   "cell_type": "markdown",
   "metadata": {},
   "source": [
    "### 9.3 Percentiles and outliers\n",
    "\n",
    "1. Why might percentile scoring be useful for dealing with outliers?\n",
    "2. Plot the distribution of a variable of your choice from the drug use dataset.\n",
    "3. Plot the same variable but percentile scored.\n",
    "4. Describe the effect, visually, of coverting raw scores to percentile."
   ]
  },
  {
   "cell_type": "code",
   "execution_count": 74,
   "metadata": {},
   "outputs": [
    {
     "data": {
      "text/html": [
       "<div>\n",
       "<style scoped>\n",
       "    .dataframe tbody tr th:only-of-type {\n",
       "        vertical-align: middle;\n",
       "    }\n",
       "\n",
       "    .dataframe tbody tr th {\n",
       "        vertical-align: top;\n",
       "    }\n",
       "\n",
       "    .dataframe thead th {\n",
       "        text-align: right;\n",
       "    }\n",
       "</style>\n",
       "<table border=\"1\" class=\"dataframe\">\n",
       "  <thead>\n",
       "    <tr style=\"text-align: right;\">\n",
       "      <th></th>\n",
       "      <th>alcohol</th>\n",
       "      <th>tranquilizer</th>\n",
       "      <th>oxycontin</th>\n",
       "      <th>sedative</th>\n",
       "      <th>alcohol_percentile</th>\n",
       "    </tr>\n",
       "  </thead>\n",
       "  <tbody>\n",
       "    <tr>\n",
       "      <th>0</th>\n",
       "      <td>109.122</td>\n",
       "      <td>5.596</td>\n",
       "      <td>2.798</td>\n",
       "      <td>5.596</td>\n",
       "      <td>5.882353</td>\n",
       "    </tr>\n",
       "    <tr>\n",
       "      <th>1</th>\n",
       "      <td>234.345</td>\n",
       "      <td>8.271</td>\n",
       "      <td>2.757</td>\n",
       "      <td>2.757</td>\n",
       "      <td>11.764706</td>\n",
       "    </tr>\n",
       "    <tr>\n",
       "      <th>2</th>\n",
       "      <td>505.352</td>\n",
       "      <td>25.128</td>\n",
       "      <td>11.168</td>\n",
       "      <td>5.584</td>\n",
       "      <td>17.647059</td>\n",
       "    </tr>\n",
       "    <tr>\n",
       "      <th>3</th>\n",
       "      <td>863.152</td>\n",
       "      <td>59.120</td>\n",
       "      <td>23.648</td>\n",
       "      <td>11.824</td>\n",
       "      <td>23.529412</td>\n",
       "    </tr>\n",
       "    <tr>\n",
       "      <th>4</th>\n",
       "      <td>1226.258</td>\n",
       "      <td>73.392</td>\n",
       "      <td>33.638</td>\n",
       "      <td>6.116</td>\n",
       "      <td>35.294118</td>\n",
       "    </tr>\n",
       "    <tr>\n",
       "      <th>5</th>\n",
       "      <td>1497.734</td>\n",
       "      <td>106.330</td>\n",
       "      <td>42.532</td>\n",
       "      <td>15.190</td>\n",
       "      <td>52.941176</td>\n",
       "    </tr>\n",
       "    <tr>\n",
       "      <th>6</th>\n",
       "      <td>1449.303</td>\n",
       "      <td>120.981</td>\n",
       "      <td>41.973</td>\n",
       "      <td>9.876</td>\n",
       "      <td>47.058824</td>\n",
       "    </tr>\n",
       "    <tr>\n",
       "      <th>7</th>\n",
       "      <td>1436.058</td>\n",
       "      <td>93.366</td>\n",
       "      <td>33.345</td>\n",
       "      <td>6.669</td>\n",
       "      <td>41.176471</td>\n",
       "    </tr>\n",
       "    <tr>\n",
       "      <th>8</th>\n",
       "      <td>1582.887</td>\n",
       "      <td>122.634</td>\n",
       "      <td>38.607</td>\n",
       "      <td>11.355</td>\n",
       "      <td>58.823529</td>\n",
       "    </tr>\n",
       "    <tr>\n",
       "      <th>9</th>\n",
       "      <td>1958.528</td>\n",
       "      <td>91.806</td>\n",
       "      <td>30.602</td>\n",
       "      <td>7.062</td>\n",
       "      <td>64.705882</td>\n",
       "    </tr>\n",
       "    <tr>\n",
       "      <th>10</th>\n",
       "      <td>3963.294</td>\n",
       "      <td>207.108</td>\n",
       "      <td>80.019</td>\n",
       "      <td>9.414</td>\n",
       "      <td>94.117647</td>\n",
       "    </tr>\n",
       "    <tr>\n",
       "      <th>11</th>\n",
       "      <td>3815.121</td>\n",
       "      <td>197.413</td>\n",
       "      <td>59.683</td>\n",
       "      <td>9.182</td>\n",
       "      <td>88.235294</td>\n",
       "    </tr>\n",
       "    <tr>\n",
       "      <th>12</th>\n",
       "      <td>2120.796</td>\n",
       "      <td>110.376</td>\n",
       "      <td>31.536</td>\n",
       "      <td>10.512</td>\n",
       "      <td>70.588235</td>\n",
       "    </tr>\n",
       "    <tr>\n",
       "      <th>13</th>\n",
       "      <td>2219.600</td>\n",
       "      <td>103.104</td>\n",
       "      <td>25.776</td>\n",
       "      <td>11.456</td>\n",
       "      <td>76.470588</td>\n",
       "    </tr>\n",
       "    <tr>\n",
       "      <th>14</th>\n",
       "      <td>5543.250</td>\n",
       "      <td>140.429</td>\n",
       "      <td>22.173</td>\n",
       "      <td>22.173</td>\n",
       "      <td>100.000000</td>\n",
       "    </tr>\n",
       "    <tr>\n",
       "      <th>15</th>\n",
       "      <td>2636.256</td>\n",
       "      <td>54.922</td>\n",
       "      <td>15.692</td>\n",
       "      <td>7.846</td>\n",
       "      <td>82.352941</td>\n",
       "    </tr>\n",
       "    <tr>\n",
       "      <th>16</th>\n",
       "      <td>1206.864</td>\n",
       "      <td>4.896</td>\n",
       "      <td>0.000</td>\n",
       "      <td>0.000</td>\n",
       "      <td>29.411765</td>\n",
       "    </tr>\n",
       "  </tbody>\n",
       "</table>\n",
       "</div>"
      ],
      "text/plain": [
       "     alcohol  tranquilizer  oxycontin  sedative  alcohol_percentile\n",
       "0    109.122         5.596      2.798     5.596            5.882353\n",
       "1    234.345         8.271      2.757     2.757           11.764706\n",
       "2    505.352        25.128     11.168     5.584           17.647059\n",
       "3    863.152        59.120     23.648    11.824           23.529412\n",
       "4   1226.258        73.392     33.638     6.116           35.294118\n",
       "5   1497.734       106.330     42.532    15.190           52.941176\n",
       "6   1449.303       120.981     41.973     9.876           47.058824\n",
       "7   1436.058        93.366     33.345     6.669           41.176471\n",
       "8   1582.887       122.634     38.607    11.355           58.823529\n",
       "9   1958.528        91.806     30.602     7.062           64.705882\n",
       "10  3963.294       207.108     80.019     9.414           94.117647\n",
       "11  3815.121       197.413     59.683     9.182           88.235294\n",
       "12  2120.796       110.376     31.536    10.512           70.588235\n",
       "13  2219.600       103.104     25.776    11.456           76.470588\n",
       "14  5543.250       140.429     22.173    22.173          100.000000\n",
       "15  2636.256        54.922     15.692     7.846           82.352941\n",
       "16  1206.864         4.896      0.000     0.000           29.411765"
      ]
     },
     "execution_count": 74,
     "metadata": {},
     "output_type": "execute_result"
    }
   ],
   "source": [
    "# The percentile score is based on the rank of the variable. \n",
    "# Therefore it used to standardise the values and efficiently remove the outliers. \n",
    "\n",
    "from scipy import stats\n",
    "alcohol_p=[]\n",
    "for value in depressants['alcohol']:\n",
    "    a=stats.percentileofscore(depressants['alcohol'], value)\n",
    "    alcohol_p.append(a)\n",
    "depressants['alcohol_percentile']=alcohol_p\n",
    "depressants\n",
    "\n"
   ]
  },
  {
   "cell_type": "code",
   "execution_count": 75,
   "metadata": {},
   "outputs": [
    {
     "data": {
      "text/plain": [
       "Text(0.5,1,'Alcohol Data Boxplot')"
      ]
     },
     "execution_count": 75,
     "metadata": {},
     "output_type": "execute_result"
    },
    {
     "data": {
      "image/png": "[encoded data removed]",
      "text/plain": [
       "<Figure size 432x288 with 1 Axes>"
      ]
     },
     "metadata": {
      "image/png": {
       "height": 255,
       "width": 403
      },
      "needs_background": "light"
     },
     "output_type": "display_data"
    }
   ],
   "source": [
    "#The boxplot was done using seabon to visualize the effect of the outliers in the alcohol data\n",
    "\n",
    "ax=sns.boxplot(x='alcohol',data=depressants,orient=\"v\",palette='rainbow')\n",
    "ax.set_ylabel('alcohol',fontsize=16)\n",
    "ax.set_title('Alcohol Data Boxplot', fontsize=20)"
   ]
  },
  {
   "cell_type": "code",
   "execution_count": 76,
   "metadata": {},
   "outputs": [
    {
     "data": {
      "text/plain": [
       "Text(0.5,1,'Alcohol_percentile Data Boxplot')"
      ]
     },
     "execution_count": 76,
     "metadata": {},
     "output_type": "execute_result"
    },
    {
     "data": {
      "image/png": "[encoded data removed]",
      "text/plain": [
       "<Figure size 432x288 with 1 Axes>"
      ]
     },
     "metadata": {
      "image/png": {
       "height": 255,
       "width": 397
      },
      "needs_background": "light"
     },
     "output_type": "display_data"
    }
   ],
   "source": [
    "#The boxplot was done using seabon to visualize the alcohol_percentile plot. \n",
    "\n",
    "ax=sns.boxplot(x='alcohol_percentile',data=depressants,orient=\"v\",palette='rainbow')\n",
    "ax.set_ylabel('alcohol_percentile',fontsize=16)\n",
    "ax.set_title('Alcohol_percentile Data Boxplot', fontsize=20)"
   ]
  },
  {
   "cell_type": "code",
   "execution_count": null,
   "metadata": {},
   "outputs": [],
   "source": []
  },
  {
   "cell_type": "code",
   "execution_count": null,
   "metadata": {},
   "outputs": [],
   "source": []
  }
 ],
 "metadata": {
  "kernelspec": {
   "display_name": "Python 3",
   "language": "python",
   "name": "python3"
  },
  "language_info": {
   "codemirror_mode": {
    "name": "ipython",
    "version": 3
   },
   "file_extension": ".py",
   "mimetype": "text/x-python",
   "name": "python",
   "nbconvert_exporter": "python",
   "pygments_lexer": "ipython3",
   "version": "3.7.0"
  }
 },
 "nbformat": 4,
 "nbformat_minor": 1
}
